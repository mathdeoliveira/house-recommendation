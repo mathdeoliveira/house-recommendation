{
 "cells": [
  {
   "cell_type": "code",
   "execution_count": 126,
   "metadata": {},
   "outputs": [],
   "source": [
    "import pandas as pd\n",
    "import category_encoders as ce\n",
    "from sklearn.preprocessing import StandardScaler\n",
    "from lightgbm import LGBMClassifier\n",
    "from sklearn.model_selection import cross_val_score, RepeatedStratifiedKFold\n",
    "from imblearn.pipeline import Pipeline\n",
    "from imblearn.over_sampling import SMOTE\n",
    "from sklearn.metrics import roc_auc_score"
   ]
  },
  {
   "cell_type": "code",
   "execution_count": 90,
   "metadata": {},
   "outputs": [],
   "source": [
    "df = pd.read_csv('/home/matheus/Documentos/house-recommendation/data/train.csv', delimiter = ';')"
   ]
  },
  {
   "cell_type": "code",
   "execution_count": 91,
   "metadata": {},
   "outputs": [
    {
     "output_type": "execute_result",
     "data": {
      "text/plain": "     Id  area  quartos  garagem  banheiros            bairro   preco  y\n0  1718   600        4        3          4  Morada Da Colina  700000  0\n1   528    61        2        1          1         Vida Nova  170000  0\n2  1649    58        2        2          2          Pampulha  226000  0\n3  1719    50        2        1          2        Novo Mundo  185000  1\n4    42    78        2        2          3         Tabajaras  330000  0",
      "text/html": "<div>\n<style scoped>\n    .dataframe tbody tr th:only-of-type {\n        vertical-align: middle;\n    }\n\n    .dataframe tbody tr th {\n        vertical-align: top;\n    }\n\n    .dataframe thead th {\n        text-align: right;\n    }\n</style>\n<table border=\"1\" class=\"dataframe\">\n  <thead>\n    <tr style=\"text-align: right;\">\n      <th></th>\n      <th>Id</th>\n      <th>area</th>\n      <th>quartos</th>\n      <th>garagem</th>\n      <th>banheiros</th>\n      <th>bairro</th>\n      <th>preco</th>\n      <th>y</th>\n    </tr>\n  </thead>\n  <tbody>\n    <tr>\n      <th>0</th>\n      <td>1718</td>\n      <td>600</td>\n      <td>4</td>\n      <td>3</td>\n      <td>4</td>\n      <td>Morada Da Colina</td>\n      <td>700000</td>\n      <td>0</td>\n    </tr>\n    <tr>\n      <th>1</th>\n      <td>528</td>\n      <td>61</td>\n      <td>2</td>\n      <td>1</td>\n      <td>1</td>\n      <td>Vida Nova</td>\n      <td>170000</td>\n      <td>0</td>\n    </tr>\n    <tr>\n      <th>2</th>\n      <td>1649</td>\n      <td>58</td>\n      <td>2</td>\n      <td>2</td>\n      <td>2</td>\n      <td>Pampulha</td>\n      <td>226000</td>\n      <td>0</td>\n    </tr>\n    <tr>\n      <th>3</th>\n      <td>1719</td>\n      <td>50</td>\n      <td>2</td>\n      <td>1</td>\n      <td>2</td>\n      <td>Novo Mundo</td>\n      <td>185000</td>\n      <td>1</td>\n    </tr>\n    <tr>\n      <th>4</th>\n      <td>42</td>\n      <td>78</td>\n      <td>2</td>\n      <td>2</td>\n      <td>3</td>\n      <td>Tabajaras</td>\n      <td>330000</td>\n      <td>0</td>\n    </tr>\n  </tbody>\n</table>\n</div>"
     },
     "metadata": {},
     "execution_count": 91
    }
   ],
   "source": [
    "df.head()"
   ]
  },
  {
   "cell_type": "code",
   "execution_count": 92,
   "metadata": {},
   "outputs": [],
   "source": [
    "cons = pd.DataFrame({'column': df.columns,\n",
    "                             'missing_perc': (df.isna().sum() / df.shape[0]) * 100,\n",
    "                             'dtype': df.dtypes})\n",
    "\n",
    "numeric_features = list(cons[(cons['dtype'] == 'int64') | (cons['dtype'] == 'float') | (cons['dtype'] == 'bool')]['column'])\n",
    "numeric_features.remove('y')\n",
    "numeric_features.remove('Id')\n",
    "categoric_features = list(cons[(cons['dtype'] == 'object')]['column'])"
   ]
  },
  {
   "cell_type": "code",
   "execution_count": 93,
   "metadata": {},
   "outputs": [
    {
     "output_type": "execute_result",
     "data": {
      "text/plain": "['area', 'quartos', 'garagem', 'banheiros', 'preco']"
     },
     "metadata": {},
     "execution_count": 93
    }
   ],
   "source": [
    "numeric_features"
   ]
  },
  {
   "cell_type": "code",
   "execution_count": 94,
   "metadata": {},
   "outputs": [
    {
     "output_type": "execute_result",
     "data": {
      "text/plain": "['bairro']"
     },
     "metadata": {},
     "execution_count": 94
    }
   ],
   "source": [
    "categoric_features"
   ]
  },
  {
   "cell_type": "code",
   "execution_count": 95,
   "metadata": {},
   "outputs": [],
   "source": [
    "std_scaler = StandardScaler()"
   ]
  },
  {
   "cell_type": "code",
   "execution_count": 96,
   "metadata": {},
   "outputs": [],
   "source": [
    "scaler = std_scaler\n",
    "catb = ce.CatBoostEncoder(cols = categoric_features)\n",
    "df[numeric_features] = scaler.fit_transform(df[numeric_features])\n",
    "df[categoric_features] = catb.fit_transform(df[categoric_features], y=y)"
   ]
  },
  {
   "cell_type": "code",
   "execution_count": 97,
   "metadata": {},
   "outputs": [
    {
     "output_type": "execute_result",
     "data": {
      "text/plain": "['area', 'quartos', 'garagem', 'banheiros', 'preco']"
     },
     "metadata": {},
     "execution_count": 97
    }
   ],
   "source": [
    "numeric_features"
   ]
  },
  {
   "cell_type": "code",
   "execution_count": 118,
   "metadata": {},
   "outputs": [],
   "source": [
    "model = LGBMClassifier()\n",
    "X = df.drop(['Id','y'], axis = 1)\n",
    "y = df['y'].values\n",
    "cv = RepeatedStratifiedKFold(n_splits=10, n_repeats=5, random_state=42)\n",
    "scores = cross_val_score(model, X, y, scoring='roc_auc', cv=cv, n_jobs=-1)"
   ]
  },
  {
   "cell_type": "code",
   "execution_count": 119,
   "metadata": {},
   "outputs": [
    {
     "output_type": "stream",
     "name": "stdout",
     "text": "Mean ROC AUC: 0.951\n"
    }
   ],
   "source": [
    "print('Mean ROC AUC: %.3f' % scores.mean())"
   ]
  },
  {
   "cell_type": "code",
   "execution_count": 120,
   "metadata": {},
   "outputs": [],
   "source": [
    "steps = [('over', SMOTE()), ('model', LGBMClassifier())]\n",
    "pipeline = Pipeline(steps=steps)"
   ]
  },
  {
   "cell_type": "code",
   "execution_count": 121,
   "metadata": {},
   "outputs": [
    {
     "output_type": "stream",
     "name": "stdout",
     "text": "Mean ROC AUC: 0.950\n"
    }
   ],
   "source": [
    "cv = RepeatedStratifiedKFold(n_splits=10, n_repeats=3, random_state=1)\n",
    "scores = cross_val_score(pipeline, X, y, scoring='roc_auc', cv=cv, n_jobs=-1)\n",
    "print('Mean ROC AUC: %.3f' % scores.mean())"
   ]
  },
  {
   "cell_type": "code",
   "execution_count": 122,
   "metadata": {},
   "outputs": [
    {
     "output_type": "execute_result",
     "data": {
      "text/plain": "Pipeline(memory=None,\n         steps=[('over',\n                 SMOTE(k_neighbors=5, n_jobs=None, random_state=None,\n                       sampling_strategy='auto')),\n                ('model',\n                 LGBMClassifier(boosting_type='gbdt', class_weight=None,\n                                colsample_bytree=1.0, importance_type='split',\n                                learning_rate=0.1, max_depth=-1,\n                                min_child_samples=20, min_child_weight=0.001,\n                                min_split_gain=0.0, n_estimators=100, n_jobs=-1,\n                                num_leaves=31, objective=None,\n                                random_state=None, reg_alpha=0.0,\n                                reg_lambda=0.0, silent=True, subsample=1.0,\n                                subsample_for_bin=200000, subsample_freq=0))],\n         verbose=False)"
     },
     "metadata": {},
     "execution_count": 122
    }
   ],
   "source": [
    "pipeline.fit(X, y)"
   ]
  },
  {
   "cell_type": "code",
   "execution_count": 123,
   "metadata": {},
   "outputs": [],
   "source": [
    "modelo = pipeline"
   ]
  },
  {
   "cell_type": "code",
   "execution_count": null,
   "metadata": {},
   "outputs": [],
   "source": []
  },
  {
   "cell_type": "code",
   "execution_count": 128,
   "metadata": {},
   "outputs": [],
   "source": [
    "df_test = pd.read_csv('/home/matheus/Documentos/house-recommendation/data/test.csv', delimiter = ';')"
   ]
  },
  {
   "cell_type": "code",
   "execution_count": 103,
   "metadata": {},
   "outputs": [],
   "source": [
    "df_test.drop(['Id', 'y'], axis = 1, inplace = True)"
   ]
  },
  {
   "cell_type": "code",
   "execution_count": 104,
   "metadata": {},
   "outputs": [
    {
     "output_type": "execute_result",
     "data": {
      "text/plain": "   area  quartos  garagem  banheiros    bairro   preco\n0   240        3        4          2  Planalto  370000",
      "text/html": "<div>\n<style scoped>\n    .dataframe tbody tr th:only-of-type {\n        vertical-align: middle;\n    }\n\n    .dataframe tbody tr th {\n        vertical-align: top;\n    }\n\n    .dataframe thead th {\n        text-align: right;\n    }\n</style>\n<table border=\"1\" class=\"dataframe\">\n  <thead>\n    <tr style=\"text-align: right;\">\n      <th></th>\n      <th>area</th>\n      <th>quartos</th>\n      <th>garagem</th>\n      <th>banheiros</th>\n      <th>bairro</th>\n      <th>preco</th>\n    </tr>\n  </thead>\n  <tbody>\n    <tr>\n      <th>0</th>\n      <td>240</td>\n      <td>3</td>\n      <td>4</td>\n      <td>2</td>\n      <td>Planalto</td>\n      <td>370000</td>\n    </tr>\n  </tbody>\n</table>\n</div>"
     },
     "metadata": {},
     "execution_count": 104
    }
   ],
   "source": [
    "df_test.head(1)"
   ]
  },
  {
   "cell_type": "code",
   "execution_count": 105,
   "metadata": {},
   "outputs": [
    {
     "output_type": "execute_result",
     "data": {
      "text/plain": "area          int64\nquartos       int64\ngaragem       int64\nbanheiros     int64\nbairro       object\npreco         int64\ndtype: object"
     },
     "metadata": {},
     "execution_count": 105
    }
   ],
   "source": [
    "df_test.dtypes"
   ]
  },
  {
   "cell_type": "code",
   "execution_count": 106,
   "metadata": {},
   "outputs": [],
   "source": [
    "numeric = df_test.select_dtypes(include='int64').columns.tolist()\n",
    "cat = df_test.select_dtypes(exclude='int64').columns.tolist()"
   ]
  },
  {
   "cell_type": "code",
   "execution_count": 107,
   "metadata": {},
   "outputs": [
    {
     "output_type": "execute_result",
     "data": {
      "text/plain": "   area  quartos  garagem  banheiros         bairro   preco\n0   240        3        4          2       Planalto  370000\n1    68        2        1          2   Dona Zulmira  160000\n2    56        2        1          1   Santa Monica  165000\n3    44        2        1          1  Shopping Park  120000\n4   102        3        2          2   Santa Monica  455000",
      "text/html": "<div>\n<style scoped>\n    .dataframe tbody tr th:only-of-type {\n        vertical-align: middle;\n    }\n\n    .dataframe tbody tr th {\n        vertical-align: top;\n    }\n\n    .dataframe thead th {\n        text-align: right;\n    }\n</style>\n<table border=\"1\" class=\"dataframe\">\n  <thead>\n    <tr style=\"text-align: right;\">\n      <th></th>\n      <th>area</th>\n      <th>quartos</th>\n      <th>garagem</th>\n      <th>banheiros</th>\n      <th>bairro</th>\n      <th>preco</th>\n    </tr>\n  </thead>\n  <tbody>\n    <tr>\n      <th>0</th>\n      <td>240</td>\n      <td>3</td>\n      <td>4</td>\n      <td>2</td>\n      <td>Planalto</td>\n      <td>370000</td>\n    </tr>\n    <tr>\n      <th>1</th>\n      <td>68</td>\n      <td>2</td>\n      <td>1</td>\n      <td>2</td>\n      <td>Dona Zulmira</td>\n      <td>160000</td>\n    </tr>\n    <tr>\n      <th>2</th>\n      <td>56</td>\n      <td>2</td>\n      <td>1</td>\n      <td>1</td>\n      <td>Santa Monica</td>\n      <td>165000</td>\n    </tr>\n    <tr>\n      <th>3</th>\n      <td>44</td>\n      <td>2</td>\n      <td>1</td>\n      <td>1</td>\n      <td>Shopping Park</td>\n      <td>120000</td>\n    </tr>\n    <tr>\n      <th>4</th>\n      <td>102</td>\n      <td>3</td>\n      <td>2</td>\n      <td>2</td>\n      <td>Santa Monica</td>\n      <td>455000</td>\n    </tr>\n  </tbody>\n</table>\n</div>"
     },
     "metadata": {},
     "execution_count": 107
    }
   ],
   "source": [
    "df_test.head()"
   ]
  },
  {
   "cell_type": "code",
   "execution_count": 108,
   "metadata": {},
   "outputs": [],
   "source": [
    "df_test[numeric] = scaler.transform(df_test[numeric])"
   ]
  },
  {
   "cell_type": "code",
   "execution_count": 110,
   "metadata": {},
   "outputs": [],
   "source": [
    "df_test[cat] = catb.transform(df_test[cat])"
   ]
  },
  {
   "cell_type": "code",
   "execution_count": 111,
   "metadata": {},
   "outputs": [
    {
     "output_type": "execute_result",
     "data": {
      "text/plain": "         area   quartos   garagem  banheiros    bairro     preco\n0    0.458221  0.299322  1.700116  -0.105917  0.514236 -0.070601\n1   -0.531542 -0.837344 -0.768790  -0.105917  0.056944 -0.696467\n2   -0.600595 -0.837344 -0.768790  -1.047397  0.373792 -0.681565\n3   -0.669648 -0.837344 -0.768790  -1.047397  0.005511 -0.815679\n4   -0.335891  0.299322  0.054179  -0.105917  0.373792  0.182726\n..        ...       ...       ...        ...       ...       ...\n588 -0.600595 -0.837344 -0.768790  -0.105917  0.198611 -0.578744\n589  1.148752  0.299322 -0.768790   0.835564  0.361806 -0.160010\n590 -0.635121 -0.837344 -0.768790  -1.047397  0.166987 -0.770975\n591 -0.531542 -0.837344  0.054179  -0.105917  0.030811 -0.398435\n592 -0.439471  0.299322  0.054179  -0.105917  0.006327 -0.279223\n\n[593 rows x 6 columns]",
      "text/html": "<div>\n<style scoped>\n    .dataframe tbody tr th:only-of-type {\n        vertical-align: middle;\n    }\n\n    .dataframe tbody tr th {\n        vertical-align: top;\n    }\n\n    .dataframe thead th {\n        text-align: right;\n    }\n</style>\n<table border=\"1\" class=\"dataframe\">\n  <thead>\n    <tr style=\"text-align: right;\">\n      <th></th>\n      <th>area</th>\n      <th>quartos</th>\n      <th>garagem</th>\n      <th>banheiros</th>\n      <th>bairro</th>\n      <th>preco</th>\n    </tr>\n  </thead>\n  <tbody>\n    <tr>\n      <th>0</th>\n      <td>0.458221</td>\n      <td>0.299322</td>\n      <td>1.700116</td>\n      <td>-0.105917</td>\n      <td>0.514236</td>\n      <td>-0.070601</td>\n    </tr>\n    <tr>\n      <th>1</th>\n      <td>-0.531542</td>\n      <td>-0.837344</td>\n      <td>-0.768790</td>\n      <td>-0.105917</td>\n      <td>0.056944</td>\n      <td>-0.696467</td>\n    </tr>\n    <tr>\n      <th>2</th>\n      <td>-0.600595</td>\n      <td>-0.837344</td>\n      <td>-0.768790</td>\n      <td>-1.047397</td>\n      <td>0.373792</td>\n      <td>-0.681565</td>\n    </tr>\n    <tr>\n      <th>3</th>\n      <td>-0.669648</td>\n      <td>-0.837344</td>\n      <td>-0.768790</td>\n      <td>-1.047397</td>\n      <td>0.005511</td>\n      <td>-0.815679</td>\n    </tr>\n    <tr>\n      <th>4</th>\n      <td>-0.335891</td>\n      <td>0.299322</td>\n      <td>0.054179</td>\n      <td>-0.105917</td>\n      <td>0.373792</td>\n      <td>0.182726</td>\n    </tr>\n    <tr>\n      <th>...</th>\n      <td>...</td>\n      <td>...</td>\n      <td>...</td>\n      <td>...</td>\n      <td>...</td>\n      <td>...</td>\n    </tr>\n    <tr>\n      <th>588</th>\n      <td>-0.600595</td>\n      <td>-0.837344</td>\n      <td>-0.768790</td>\n      <td>-0.105917</td>\n      <td>0.198611</td>\n      <td>-0.578744</td>\n    </tr>\n    <tr>\n      <th>589</th>\n      <td>1.148752</td>\n      <td>0.299322</td>\n      <td>-0.768790</td>\n      <td>0.835564</td>\n      <td>0.361806</td>\n      <td>-0.160010</td>\n    </tr>\n    <tr>\n      <th>590</th>\n      <td>-0.635121</td>\n      <td>-0.837344</td>\n      <td>-0.768790</td>\n      <td>-1.047397</td>\n      <td>0.166987</td>\n      <td>-0.770975</td>\n    </tr>\n    <tr>\n      <th>591</th>\n      <td>-0.531542</td>\n      <td>-0.837344</td>\n      <td>0.054179</td>\n      <td>-0.105917</td>\n      <td>0.030811</td>\n      <td>-0.398435</td>\n    </tr>\n    <tr>\n      <th>592</th>\n      <td>-0.439471</td>\n      <td>0.299322</td>\n      <td>0.054179</td>\n      <td>-0.105917</td>\n      <td>0.006327</td>\n      <td>-0.279223</td>\n    </tr>\n  </tbody>\n</table>\n<p>593 rows × 6 columns</p>\n</div>"
     },
     "metadata": {},
     "execution_count": 111
    }
   ],
   "source": [
    "df_test"
   ]
  },
  {
   "cell_type": "code",
   "execution_count": 125,
   "metadata": {},
   "outputs": [],
   "source": [
    "y_pred_test = modelo.predict(df_test)"
   ]
  },
  {
   "cell_type": "code",
   "execution_count": 129,
   "metadata": {},
   "outputs": [
    {
     "output_type": "execute_result",
     "data": {
      "text/plain": "0.8733606557377049"
     },
     "metadata": {},
     "execution_count": 129
    }
   ],
   "source": [
    "y_true = df_test['y']\n",
    "roc_auc_score(y_true, y_pred_test)"
   ]
  },
  {
   "cell_type": "code",
   "execution_count": 130,
   "metadata": {},
   "outputs": [
    {
     "output_type": "execute_result",
     "data": {
      "text/plain": "       Id  area  quartos  garagem  banheiros           bairro   preco  y\n0    1496   240        3        4          2         Planalto  370000  0\n1     267    68        2        1          2     Dona Zulmira  160000  0\n2    1672    56        2        1          1     Santa Monica  165000  1\n3     546    44        2        1          1    Shopping Park  120000  0\n4    1539   102        3        2          2     Santa Monica  455000  0\n..    ...   ...      ...      ...        ...              ...     ... ..\n588  1693    56        2        1          2           Tibery  199500  0\n589    25   360        3        1          3   Daniel Fonseca  340000  0\n590   521    50        2        1          1  Jardim Brasilia  135000  0\n591  1417    68        2        2          2           Brasil  260000  0\n592   336    84        3        2          2   Jardim Finotti  300000  0\n\n[593 rows x 8 columns]",
      "text/html": "<div>\n<style scoped>\n    .dataframe tbody tr th:only-of-type {\n        vertical-align: middle;\n    }\n\n    .dataframe tbody tr th {\n        vertical-align: top;\n    }\n\n    .dataframe thead th {\n        text-align: right;\n    }\n</style>\n<table border=\"1\" class=\"dataframe\">\n  <thead>\n    <tr style=\"text-align: right;\">\n      <th></th>\n      <th>Id</th>\n      <th>area</th>\n      <th>quartos</th>\n      <th>garagem</th>\n      <th>banheiros</th>\n      <th>bairro</th>\n      <th>preco</th>\n      <th>y</th>\n    </tr>\n  </thead>\n  <tbody>\n    <tr>\n      <th>0</th>\n      <td>1496</td>\n      <td>240</td>\n      <td>3</td>\n      <td>4</td>\n      <td>2</td>\n      <td>Planalto</td>\n      <td>370000</td>\n      <td>0</td>\n    </tr>\n    <tr>\n      <th>1</th>\n      <td>267</td>\n      <td>68</td>\n      <td>2</td>\n      <td>1</td>\n      <td>2</td>\n      <td>Dona Zulmira</td>\n      <td>160000</td>\n      <td>0</td>\n    </tr>\n    <tr>\n      <th>2</th>\n      <td>1672</td>\n      <td>56</td>\n      <td>2</td>\n      <td>1</td>\n      <td>1</td>\n      <td>Santa Monica</td>\n      <td>165000</td>\n      <td>1</td>\n    </tr>\n    <tr>\n      <th>3</th>\n      <td>546</td>\n      <td>44</td>\n      <td>2</td>\n      <td>1</td>\n      <td>1</td>\n      <td>Shopping Park</td>\n      <td>120000</td>\n      <td>0</td>\n    </tr>\n    <tr>\n      <th>4</th>\n      <td>1539</td>\n      <td>102</td>\n      <td>3</td>\n      <td>2</td>\n      <td>2</td>\n      <td>Santa Monica</td>\n      <td>455000</td>\n      <td>0</td>\n    </tr>\n    <tr>\n      <th>...</th>\n      <td>...</td>\n      <td>...</td>\n      <td>...</td>\n      <td>...</td>\n      <td>...</td>\n      <td>...</td>\n      <td>...</td>\n      <td>...</td>\n    </tr>\n    <tr>\n      <th>588</th>\n      <td>1693</td>\n      <td>56</td>\n      <td>2</td>\n      <td>1</td>\n      <td>2</td>\n      <td>Tibery</td>\n      <td>199500</td>\n      <td>0</td>\n    </tr>\n    <tr>\n      <th>589</th>\n      <td>25</td>\n      <td>360</td>\n      <td>3</td>\n      <td>1</td>\n      <td>3</td>\n      <td>Daniel Fonseca</td>\n      <td>340000</td>\n      <td>0</td>\n    </tr>\n    <tr>\n      <th>590</th>\n      <td>521</td>\n      <td>50</td>\n      <td>2</td>\n      <td>1</td>\n      <td>1</td>\n      <td>Jardim Brasilia</td>\n      <td>135000</td>\n      <td>0</td>\n    </tr>\n    <tr>\n      <th>591</th>\n      <td>1417</td>\n      <td>68</td>\n      <td>2</td>\n      <td>2</td>\n      <td>2</td>\n      <td>Brasil</td>\n      <td>260000</td>\n      <td>0</td>\n    </tr>\n    <tr>\n      <th>592</th>\n      <td>336</td>\n      <td>84</td>\n      <td>3</td>\n      <td>2</td>\n      <td>2</td>\n      <td>Jardim Finotti</td>\n      <td>300000</td>\n      <td>0</td>\n    </tr>\n  </tbody>\n</table>\n<p>593 rows × 8 columns</p>\n</div>"
     },
     "metadata": {},
     "execution_count": 130
    }
   ],
   "source": [
    "df_test"
   ]
  },
  {
   "cell_type": "code",
   "execution_count": 147,
   "metadata": {},
   "outputs": [],
   "source": [
    "entrada_dados = {\n",
    "    'Id' : 132,\n",
    "    'area' : 125,\n",
    "    'quartos' : 3,\n",
    "    'garagem' : 2,\n",
    "    'banheiros' : 3,\n",
    "    'bairro' : 'Aparecida',\n",
    "    'preco' : 1800000\n",
    "}"
   ]
  },
  {
   "cell_type": "code",
   "execution_count": 148,
   "metadata": {},
   "outputs": [],
   "source": [
    "features_names = df_test.drop(['Id', 'y'], axis = 1).columns.tolist()"
   ]
  },
  {
   "cell_type": "code",
   "execution_count": 149,
   "metadata": {},
   "outputs": [],
   "source": [
    "df_2 = pd.DataFrame(index=[0], columns=features_names)\n",
    "df_2 = df_2.fillna(value=0)\n",
    "\n",
    "for i in entrada_dados.items():\n",
    "  df_2[i[0]] = i[1]"
   ]
  },
  {
   "cell_type": "code",
   "execution_count": 150,
   "metadata": {},
   "outputs": [],
   "source": [
    "df_2[cat] = catb.transform(df_2[cat])\n",
    "df_2[numeric] = scaler.transform(df_2[numeric])"
   ]
  },
  {
   "cell_type": "code",
   "execution_count": 151,
   "metadata": {},
   "outputs": [
    {
     "output_type": "execute_result",
     "data": {
      "text/plain": "       area   quartos   garagem  banheiros    bairro     preco   Id\n0 -0.203539  0.299322  0.054179   0.835564  0.077238  4.191248  132",
      "text/html": "<div>\n<style scoped>\n    .dataframe tbody tr th:only-of-type {\n        vertical-align: middle;\n    }\n\n    .dataframe tbody tr th {\n        vertical-align: top;\n    }\n\n    .dataframe thead th {\n        text-align: right;\n    }\n</style>\n<table border=\"1\" class=\"dataframe\">\n  <thead>\n    <tr style=\"text-align: right;\">\n      <th></th>\n      <th>area</th>\n      <th>quartos</th>\n      <th>garagem</th>\n      <th>banheiros</th>\n      <th>bairro</th>\n      <th>preco</th>\n      <th>Id</th>\n    </tr>\n  </thead>\n  <tbody>\n    <tr>\n      <th>0</th>\n      <td>-0.203539</td>\n      <td>0.299322</td>\n      <td>0.054179</td>\n      <td>0.835564</td>\n      <td>0.077238</td>\n      <td>4.191248</td>\n      <td>132</td>\n    </tr>\n  </tbody>\n</table>\n</div>"
     },
     "metadata": {},
     "execution_count": 151
    }
   ],
   "source": [
    "df_2"
   ]
  },
  {
   "cell_type": "code",
   "execution_count": 152,
   "metadata": {},
   "outputs": [],
   "source": [
    "y_pred_test = modelo.predict(df_2.drop('Id', axis = 1))"
   ]
  },
  {
   "cell_type": "code",
   "execution_count": 153,
   "metadata": {},
   "outputs": [
    {
     "output_type": "execute_result",
     "data": {
      "text/plain": "array([0])"
     },
     "metadata": {},
     "execution_count": 153
    }
   ],
   "source": [
    "y_pred_test"
   ]
  },
  {
   "cell_type": "code",
   "execution_count": null,
   "metadata": {},
   "outputs": [],
   "source": []
  }
 ],
 "metadata": {
  "language_info": {
   "codemirror_mode": {
    "name": "ipython",
    "version": 3
   },
   "file_extension": ".py",
   "mimetype": "text/x-python",
   "name": "python",
   "nbconvert_exporter": "python",
   "pygments_lexer": "ipython3",
   "version": "3.8.3-final"
  },
  "orig_nbformat": 2,
  "kernelspec": {
   "name": "python38364bit7962f163f7d94f2eabab29bf9ea94704",
   "display_name": "Python 3.8.3 64-bit"
  }
 },
 "nbformat": 4,
 "nbformat_minor": 2
}