{
 "cells": [
  {
   "cell_type": "code",
   "execution_count": 1,
   "metadata": {},
   "outputs": [],
   "source": [
    "import pandas as pd\n",
    "import category_encoders as ce\n",
    "from sklearn.preprocessing import StandardScaler\n",
    "from catboost import CatBoostClassifier\n",
    "from sklearn.model_selection import cross_val_score, RepeatedStratifiedKFold\n",
    "from imblearn.pipeline import Pipeline\n",
    "from imblearn.over_sampling import SMOTE\n",
    "from sklearn.metrics import roc_auc_score"
   ]
  },
  {
   "cell_type": "code",
   "execution_count": 2,
   "metadata": {},
   "outputs": [],
   "source": [
    "df = pd.read_csv('/home/matheus/Documentos/house-recommendation/data/train.csv', delimiter = ';')"
   ]
  },
  {
   "cell_type": "code",
   "execution_count": 3,
   "metadata": {},
   "outputs": [
    {
     "output_type": "execute_result",
     "data": {
      "text/plain": "     Id  area  quartos  garagem  banheiros            bairro   preco  y\n0  1718   600        4        3          4  Morada Da Colina  700000  0\n1   528    61        2        1          1         Vida Nova  170000  0\n2  1649    58        2        2          2          Pampulha  226000  0\n3  1719    50        2        1          2        Novo Mundo  185000  1\n4    42    78        2        2          3         Tabajaras  330000  0",
      "text/html": "<div>\n<style scoped>\n    .dataframe tbody tr th:only-of-type {\n        vertical-align: middle;\n    }\n\n    .dataframe tbody tr th {\n        vertical-align: top;\n    }\n\n    .dataframe thead th {\n        text-align: right;\n    }\n</style>\n<table border=\"1\" class=\"dataframe\">\n  <thead>\n    <tr style=\"text-align: right;\">\n      <th></th>\n      <th>Id</th>\n      <th>area</th>\n      <th>quartos</th>\n      <th>garagem</th>\n      <th>banheiros</th>\n      <th>bairro</th>\n      <th>preco</th>\n      <th>y</th>\n    </tr>\n  </thead>\n  <tbody>\n    <tr>\n      <th>0</th>\n      <td>1718</td>\n      <td>600</td>\n      <td>4</td>\n      <td>3</td>\n      <td>4</td>\n      <td>Morada Da Colina</td>\n      <td>700000</td>\n      <td>0</td>\n    </tr>\n    <tr>\n      <th>1</th>\n      <td>528</td>\n      <td>61</td>\n      <td>2</td>\n      <td>1</td>\n      <td>1</td>\n      <td>Vida Nova</td>\n      <td>170000</td>\n      <td>0</td>\n    </tr>\n    <tr>\n      <th>2</th>\n      <td>1649</td>\n      <td>58</td>\n      <td>2</td>\n      <td>2</td>\n      <td>2</td>\n      <td>Pampulha</td>\n      <td>226000</td>\n      <td>0</td>\n    </tr>\n    <tr>\n      <th>3</th>\n      <td>1719</td>\n      <td>50</td>\n      <td>2</td>\n      <td>1</td>\n      <td>2</td>\n      <td>Novo Mundo</td>\n      <td>185000</td>\n      <td>1</td>\n    </tr>\n    <tr>\n      <th>4</th>\n      <td>42</td>\n      <td>78</td>\n      <td>2</td>\n      <td>2</td>\n      <td>3</td>\n      <td>Tabajaras</td>\n      <td>330000</td>\n      <td>0</td>\n    </tr>\n  </tbody>\n</table>\n</div>"
     },
     "metadata": {},
     "execution_count": 3
    }
   ],
   "source": [
    "df.head()"
   ]
  },
  {
   "cell_type": "code",
   "execution_count": 4,
   "metadata": {},
   "outputs": [],
   "source": [
    "cons = pd.DataFrame({'column': df.columns,\n",
    "                             'missing_perc': (df.isna().sum() / df.shape[0]) * 100,\n",
    "                             'dtype': df.dtypes})\n",
    "\n",
    "numeric_features = list(cons[(cons['dtype'] == 'int64') | (cons['dtype'] == 'float') | (cons['dtype'] == 'bool')]['column'])\n",
    "numeric_features.remove('y')\n",
    "numeric_features.remove('Id')\n",
    "categoric_features = list(cons[(cons['dtype'] == 'object')]['column'])"
   ]
  },
  {
   "cell_type": "code",
   "execution_count": 5,
   "metadata": {},
   "outputs": [
    {
     "output_type": "execute_result",
     "data": {
      "text/plain": "['area', 'quartos', 'garagem', 'banheiros', 'preco']"
     },
     "metadata": {},
     "execution_count": 5
    }
   ],
   "source": [
    "numeric_features"
   ]
  },
  {
   "cell_type": "code",
   "execution_count": 6,
   "metadata": {},
   "outputs": [
    {
     "output_type": "execute_result",
     "data": {
      "text/plain": "['bairro']"
     },
     "metadata": {},
     "execution_count": 6
    }
   ],
   "source": [
    "categoric_features"
   ]
  },
  {
   "cell_type": "code",
   "execution_count": 7,
   "metadata": {},
   "outputs": [],
   "source": [
    "std_scaler = StandardScaler()"
   ]
  },
  {
   "cell_type": "code",
   "execution_count": 8,
   "metadata": {},
   "outputs": [],
   "source": [
    "y = df['y']\n",
    "scaler = std_scaler\n",
    "catb = ce.CatBoostEncoder(cols = categoric_features)\n",
    "df[numeric_features] = scaler.fit_transform(df[numeric_features])\n",
    "df[categoric_features] = catb.fit_transform(df[categoric_features], y=y)"
   ]
  },
  {
   "cell_type": "code",
   "execution_count": 9,
   "metadata": {},
   "outputs": [
    {
     "output_type": "execute_result",
     "data": {
      "text/plain": "['area', 'quartos', 'garagem', 'banheiros', 'preco']"
     },
     "metadata": {},
     "execution_count": 9
    }
   ],
   "source": [
    "numeric_features"
   ]
  },
  {
   "cell_type": "code",
   "execution_count": 10,
   "metadata": {},
   "outputs": [],
   "source": [
    "model = CatBoostClassifier()\n",
    "X = df.drop(['Id','y'], axis = 1)\n",
    "y = df['y'].values\n",
    "cv = RepeatedStratifiedKFold(n_splits=10, n_repeats=5, random_state=42)\n",
    "scores = cross_val_score(model, X, y, scoring='roc_auc', cv=cv, n_jobs=-1)"
   ]
  },
  {
   "cell_type": "code",
   "execution_count": 11,
   "metadata": {},
   "outputs": [
    {
     "output_type": "stream",
     "name": "stdout",
     "text": "Mean ROC AUC: 0.958\n"
    }
   ],
   "source": [
    "print('Mean ROC AUC: %.3f' % scores.mean())"
   ]
  },
  {
   "cell_type": "code",
   "execution_count": 12,
   "metadata": {},
   "outputs": [],
   "source": [
    "steps = [('over', SMOTE()), ('model', CatBoostClassifier())]\n",
    "pipeline = Pipeline(steps=steps)"
   ]
  },
  {
   "cell_type": "code",
   "execution_count": 13,
   "metadata": {},
   "outputs": [
    {
     "output_type": "stream",
     "name": "stdout",
     "text": "Mean ROC AUC: 0.958\n"
    }
   ],
   "source": [
    "cv = RepeatedStratifiedKFold(n_splits=10, n_repeats=3, random_state=1)\n",
    "scores = cross_val_score(pipeline, X, y, scoring='roc_auc', cv=cv, n_jobs=-1)\n",
    "print('Mean ROC AUC: %.3f' % scores.mean())"
   ]
  },
  {
   "cell_type": "code",
   "execution_count": 14,
   "metadata": {},
   "outputs": [
    {
     "output_type": "stream",
     "name": "stdout",
     "text": "Learning rate set to 0.013821\n0:\tlearn: 0.6777888\ttotal: 50.2ms\tremaining: 50.1s\n1:\tlearn: 0.6607885\ttotal: 54.9ms\tremaining: 27.4s\n2:\tlearn: 0.6466970\ttotal: 60.8ms\tremaining: 20.2s\n3:\tlearn: 0.6310669\ttotal: 63ms\tremaining: 15.7s\n4:\tlearn: 0.6152246\ttotal: 65.3ms\tremaining: 13s\n5:\tlearn: 0.5996438\ttotal: 67.6ms\tremaining: 11.2s\n6:\tlearn: 0.5850754\ttotal: 69.9ms\tremaining: 9.92s\n7:\tlearn: 0.5733910\ttotal: 72.3ms\tremaining: 8.96s\n8:\tlearn: 0.5583969\ttotal: 75.8ms\tremaining: 8.35s\n9:\tlearn: 0.5457893\ttotal: 78ms\tremaining: 7.72s\n10:\tlearn: 0.5355348\ttotal: 81.5ms\tremaining: 7.33s\n11:\tlearn: 0.5249218\ttotal: 85.5ms\tremaining: 7.04s\n12:\tlearn: 0.5126989\ttotal: 90.4ms\tremaining: 6.87s\n13:\tlearn: 0.5007962\ttotal: 94.8ms\tremaining: 6.68s\n14:\tlearn: 0.4914266\ttotal: 97.4ms\tremaining: 6.39s\n15:\tlearn: 0.4805032\ttotal: 99.8ms\tremaining: 6.14s\n16:\tlearn: 0.4707844\ttotal: 102ms\tremaining: 5.9s\n17:\tlearn: 0.4629851\ttotal: 105ms\tremaining: 5.72s\n18:\tlearn: 0.4554173\ttotal: 109ms\tremaining: 5.62s\n19:\tlearn: 0.4462705\ttotal: 111ms\tremaining: 5.46s\n20:\tlearn: 0.4380904\ttotal: 113ms\tremaining: 5.29s\n21:\tlearn: 0.4313585\ttotal: 116ms\tremaining: 5.15s\n22:\tlearn: 0.4237186\ttotal: 118ms\tremaining: 5.02s\n23:\tlearn: 0.4181229\ttotal: 122ms\tremaining: 4.98s\n24:\tlearn: 0.4112246\ttotal: 125ms\tremaining: 4.87s\n25:\tlearn: 0.4040277\ttotal: 131ms\tremaining: 4.89s\n26:\tlearn: 0.3969504\ttotal: 134ms\tremaining: 4.82s\n27:\tlearn: 0.3910783\ttotal: 139ms\tremaining: 4.82s\n28:\tlearn: 0.3856408\ttotal: 141ms\tremaining: 4.73s\n29:\tlearn: 0.3807708\ttotal: 144ms\tremaining: 4.65s\n30:\tlearn: 0.3747580\ttotal: 146ms\tremaining: 4.57s\n31:\tlearn: 0.3697465\ttotal: 149ms\tremaining: 4.51s\n32:\tlearn: 0.3641705\ttotal: 156ms\tremaining: 4.58s\n33:\tlearn: 0.3587196\ttotal: 159ms\tremaining: 4.51s\n34:\tlearn: 0.3533589\ttotal: 161ms\tremaining: 4.45s\n35:\tlearn: 0.3488751\ttotal: 164ms\tremaining: 4.38s\n36:\tlearn: 0.3439246\ttotal: 170ms\tremaining: 4.42s\n37:\tlearn: 0.3403940\ttotal: 172ms\tremaining: 4.37s\n38:\tlearn: 0.3369518\ttotal: 175ms\tremaining: 4.31s\n39:\tlearn: 0.3338219\ttotal: 178ms\tremaining: 4.26s\n40:\tlearn: 0.3298114\ttotal: 180ms\tremaining: 4.21s\n41:\tlearn: 0.3251852\ttotal: 185ms\tremaining: 4.22s\n42:\tlearn: 0.3210045\ttotal: 188ms\tremaining: 4.18s\n43:\tlearn: 0.3171054\ttotal: 191ms\tremaining: 4.14s\n44:\tlearn: 0.3151394\ttotal: 202ms\tremaining: 4.28s\n45:\tlearn: 0.3127101\ttotal: 206ms\tremaining: 4.28s\n46:\tlearn: 0.3105084\ttotal: 209ms\tremaining: 4.23s\n47:\tlearn: 0.3075304\ttotal: 211ms\tremaining: 4.18s\n48:\tlearn: 0.3045824\ttotal: 214ms\tremaining: 4.14s\n49:\tlearn: 0.3014573\ttotal: 218ms\tremaining: 4.15s\n50:\tlearn: 0.2983841\ttotal: 223ms\tremaining: 4.14s\n51:\tlearn: 0.2951682\ttotal: 231ms\tremaining: 4.2s\n52:\tlearn: 0.2914078\ttotal: 235ms\tremaining: 4.19s\n53:\tlearn: 0.2893026\ttotal: 243ms\tremaining: 4.26s\n54:\tlearn: 0.2876129\ttotal: 250ms\tremaining: 4.29s\n55:\tlearn: 0.2851924\ttotal: 255ms\tremaining: 4.3s\n56:\tlearn: 0.2837193\ttotal: 262ms\tremaining: 4.34s\n57:\tlearn: 0.2814078\ttotal: 267ms\tremaining: 4.34s\n58:\tlearn: 0.2793057\ttotal: 270ms\tremaining: 4.31s\n59:\tlearn: 0.2767924\ttotal: 272ms\tremaining: 4.27s\n60:\tlearn: 0.2754229\ttotal: 275ms\tremaining: 4.23s\n61:\tlearn: 0.2740705\ttotal: 284ms\tremaining: 4.3s\n62:\tlearn: 0.2719269\ttotal: 287ms\tremaining: 4.26s\n63:\tlearn: 0.2699807\ttotal: 289ms\tremaining: 4.23s\n64:\tlearn: 0.2680503\ttotal: 295ms\tremaining: 4.25s\n65:\tlearn: 0.2659316\ttotal: 299ms\tremaining: 4.22s\n66:\tlearn: 0.2643011\ttotal: 301ms\tremaining: 4.19s\n67:\tlearn: 0.2631305\ttotal: 304ms\tremaining: 4.17s\n68:\tlearn: 0.2610530\ttotal: 307ms\tremaining: 4.14s\n69:\tlearn: 0.2592322\ttotal: 312ms\tremaining: 4.14s\n70:\tlearn: 0.2571017\ttotal: 315ms\tremaining: 4.12s\n71:\tlearn: 0.2557034\ttotal: 317ms\tremaining: 4.09s\n72:\tlearn: 0.2543895\ttotal: 320ms\tremaining: 4.06s\n73:\tlearn: 0.2529528\ttotal: 326ms\tremaining: 4.08s\n74:\tlearn: 0.2515363\ttotal: 329ms\tremaining: 4.06s\n75:\tlearn: 0.2495396\ttotal: 331ms\tremaining: 4.03s\n76:\tlearn: 0.2482275\ttotal: 334ms\tremaining: 4s\n77:\tlearn: 0.2469029\ttotal: 336ms\tremaining: 3.98s\n78:\tlearn: 0.2454161\ttotal: 341ms\tremaining: 3.98s\n79:\tlearn: 0.2444018\ttotal: 346ms\tremaining: 3.97s\n80:\tlearn: 0.2433251\ttotal: 348ms\tremaining: 3.95s\n81:\tlearn: 0.2421108\ttotal: 351ms\tremaining: 3.92s\n82:\tlearn: 0.2414268\ttotal: 357ms\tremaining: 3.94s\n83:\tlearn: 0.2397785\ttotal: 359ms\tremaining: 3.92s\n84:\tlearn: 0.2387622\ttotal: 362ms\tremaining: 3.89s\n85:\tlearn: 0.2379802\ttotal: 364ms\tremaining: 3.87s\n86:\tlearn: 0.2367982\ttotal: 367ms\tremaining: 3.85s\n87:\tlearn: 0.2360955\ttotal: 372ms\tremaining: 3.85s\n88:\tlearn: 0.2352128\ttotal: 374ms\tremaining: 3.83s\n89:\tlearn: 0.2343711\ttotal: 377ms\tremaining: 3.81s\n90:\tlearn: 0.2333777\ttotal: 379ms\tremaining: 3.79s\n91:\tlearn: 0.2324225\ttotal: 384ms\tremaining: 3.79s\n92:\tlearn: 0.2310773\ttotal: 390ms\tremaining: 3.81s\n93:\tlearn: 0.2297668\ttotal: 393ms\tremaining: 3.79s\n94:\tlearn: 0.2291217\ttotal: 396ms\tremaining: 3.77s\n95:\tlearn: 0.2279221\ttotal: 400ms\tremaining: 3.77s\n96:\tlearn: 0.2271249\ttotal: 403ms\tremaining: 3.75s\n97:\tlearn: 0.2264190\ttotal: 406ms\tremaining: 3.74s\n98:\tlearn: 0.2257880\ttotal: 410ms\tremaining: 3.73s\n99:\tlearn: 0.2249943\ttotal: 414ms\tremaining: 3.73s\n100:\tlearn: 0.2240285\ttotal: 419ms\tremaining: 3.73s\n101:\tlearn: 0.2232512\ttotal: 422ms\tremaining: 3.72s\n102:\tlearn: 0.2226694\ttotal: 430ms\tremaining: 3.74s\n103:\tlearn: 0.2216783\ttotal: 433ms\tremaining: 3.73s\n104:\tlearn: 0.2208573\ttotal: 437ms\tremaining: 3.72s\n105:\tlearn: 0.2202152\ttotal: 439ms\tremaining: 3.71s\n106:\tlearn: 0.2190211\ttotal: 442ms\tremaining: 3.69s\n107:\tlearn: 0.2183951\ttotal: 447ms\tremaining: 3.69s\n108:\tlearn: 0.2173424\ttotal: 450ms\tremaining: 3.68s\n109:\tlearn: 0.2164619\ttotal: 452ms\tremaining: 3.66s\n110:\tlearn: 0.2159735\ttotal: 455ms\tremaining: 3.64s\n111:\tlearn: 0.2154008\ttotal: 457ms\tremaining: 3.63s\n112:\tlearn: 0.2145209\ttotal: 463ms\tremaining: 3.63s\n113:\tlearn: 0.2137242\ttotal: 466ms\tremaining: 3.62s\n114:\tlearn: 0.2124422\ttotal: 468ms\tremaining: 3.6s\n115:\tlearn: 0.2118443\ttotal: 470ms\tremaining: 3.58s\n116:\tlearn: 0.2115305\ttotal: 473ms\tremaining: 3.57s\n117:\tlearn: 0.2110001\ttotal: 479ms\tremaining: 3.58s\n118:\tlearn: 0.2104095\ttotal: 482ms\tremaining: 3.56s\n119:\tlearn: 0.2098967\ttotal: 484ms\tremaining: 3.55s\n120:\tlearn: 0.2093001\ttotal: 487ms\tremaining: 3.54s\n121:\tlearn: 0.2083249\ttotal: 489ms\tremaining: 3.52s\n122:\tlearn: 0.2077217\ttotal: 494ms\tremaining: 3.52s\n123:\tlearn: 0.2068044\ttotal: 497ms\tremaining: 3.51s\n124:\tlearn: 0.2061976\ttotal: 499ms\tremaining: 3.49s\n125:\tlearn: 0.2061100\ttotal: 501ms\tremaining: 3.47s\n126:\tlearn: 0.2055853\ttotal: 503ms\tremaining: 3.46s\n127:\tlearn: 0.2050361\ttotal: 507ms\tremaining: 3.45s\n128:\tlearn: 0.2042235\ttotal: 511ms\tremaining: 3.45s\n129:\tlearn: 0.2036951\ttotal: 513ms\tremaining: 3.43s\n130:\tlearn: 0.2031292\ttotal: 516ms\tremaining: 3.42s\n131:\tlearn: 0.2024921\ttotal: 518ms\tremaining: 3.41s\n132:\tlearn: 0.2019876\ttotal: 521ms\tremaining: 3.39s\n133:\tlearn: 0.2015222\ttotal: 526ms\tremaining: 3.4s\n134:\tlearn: 0.2009309\ttotal: 528ms\tremaining: 3.38s\n135:\tlearn: 0.2002935\ttotal: 531ms\tremaining: 3.37s\n136:\tlearn: 0.1997184\ttotal: 533ms\tremaining: 3.36s\n137:\tlearn: 0.1994096\ttotal: 536ms\tremaining: 3.35s\n138:\tlearn: 0.1985940\ttotal: 540ms\tremaining: 3.35s\n139:\tlearn: 0.1979947\ttotal: 543ms\tremaining: 3.33s\n140:\tlearn: 0.1977150\ttotal: 546ms\tremaining: 3.32s\n141:\tlearn: 0.1970188\ttotal: 548ms\tremaining: 3.31s\n142:\tlearn: 0.1963829\ttotal: 551ms\tremaining: 3.3s\n143:\tlearn: 0.1960074\ttotal: 556ms\tremaining: 3.3s\n144:\tlearn: 0.1954933\ttotal: 558ms\tremaining: 3.29s\n145:\tlearn: 0.1948622\ttotal: 561ms\tremaining: 3.28s\n146:\tlearn: 0.1946785\ttotal: 563ms\tremaining: 3.27s\n147:\tlearn: 0.1941323\ttotal: 565ms\tremaining: 3.25s\n148:\tlearn: 0.1939222\ttotal: 572ms\tremaining: 3.27s\n149:\tlearn: 0.1933577\ttotal: 576ms\tremaining: 3.26s\n150:\tlearn: 0.1927944\ttotal: 580ms\tremaining: 3.26s\n151:\tlearn: 0.1923645\ttotal: 589ms\tremaining: 3.29s\n152:\tlearn: 0.1919929\ttotal: 592ms\tremaining: 3.28s\n153:\tlearn: 0.1915111\ttotal: 595ms\tremaining: 3.27s\n154:\tlearn: 0.1910948\ttotal: 600ms\tremaining: 3.27s\n155:\tlearn: 0.1907198\ttotal: 609ms\tremaining: 3.29s\n156:\tlearn: 0.1904092\ttotal: 616ms\tremaining: 3.31s\n157:\tlearn: 0.1901002\ttotal: 625ms\tremaining: 3.33s\n158:\tlearn: 0.1896820\ttotal: 627ms\tremaining: 3.32s\n159:\tlearn: 0.1894378\ttotal: 630ms\tremaining: 3.31s\n160:\tlearn: 0.1888280\ttotal: 635ms\tremaining: 3.31s\n161:\tlearn: 0.1885791\ttotal: 637ms\tremaining: 3.3s\n162:\tlearn: 0.1882250\ttotal: 640ms\tremaining: 3.29s\n163:\tlearn: 0.1879125\ttotal: 642ms\tremaining: 3.27s\n164:\tlearn: 0.1875366\ttotal: 645ms\tremaining: 3.26s\n165:\tlearn: 0.1867768\ttotal: 650ms\tremaining: 3.27s\n166:\tlearn: 0.1864697\ttotal: 653ms\tremaining: 3.26s\n167:\tlearn: 0.1860088\ttotal: 655ms\tremaining: 3.25s\n168:\tlearn: 0.1855234\ttotal: 658ms\tremaining: 3.23s\n169:\tlearn: 0.1850844\ttotal: 660ms\tremaining: 3.22s\n170:\tlearn: 0.1848153\ttotal: 666ms\tremaining: 3.23s\n171:\tlearn: 0.1843710\ttotal: 668ms\tremaining: 3.22s\n172:\tlearn: 0.1839852\ttotal: 671ms\tremaining: 3.21s\n173:\tlearn: 0.1835180\ttotal: 673ms\tremaining: 3.19s\n174:\tlearn: 0.1830546\ttotal: 675ms\tremaining: 3.18s\n175:\tlearn: 0.1826217\ttotal: 682ms\tremaining: 3.19s\n176:\tlearn: 0.1822169\ttotal: 684ms\tremaining: 3.18s\n177:\tlearn: 0.1819803\ttotal: 687ms\tremaining: 3.17s\n178:\tlearn: 0.1816457\ttotal: 689ms\tremaining: 3.16s\n179:\tlearn: 0.1812481\ttotal: 692ms\tremaining: 3.15s\n180:\tlearn: 0.1809121\ttotal: 696ms\tremaining: 3.15s\n181:\tlearn: 0.1807461\ttotal: 698ms\tremaining: 3.14s\n182:\tlearn: 0.1804547\ttotal: 701ms\tremaining: 3.13s\n183:\tlearn: 0.1800517\ttotal: 703ms\tremaining: 3.12s\n184:\tlearn: 0.1797287\ttotal: 706ms\tremaining: 3.11s\n185:\tlearn: 0.1791845\ttotal: 710ms\tremaining: 3.11s\n186:\tlearn: 0.1789239\ttotal: 714ms\tremaining: 3.1s\n187:\tlearn: 0.1785452\ttotal: 717ms\tremaining: 3.09s\n188:\tlearn: 0.1783589\ttotal: 719ms\tremaining: 3.08s\n189:\tlearn: 0.1780877\ttotal: 722ms\tremaining: 3.08s\n190:\tlearn: 0.1774942\ttotal: 726ms\tremaining: 3.08s\n191:\tlearn: 0.1773509\ttotal: 729ms\tremaining: 3.07s\n192:\tlearn: 0.1769352\ttotal: 732ms\tremaining: 3.06s\n193:\tlearn: 0.1767468\ttotal: 734ms\tremaining: 3.05s\n194:\tlearn: 0.1764903\ttotal: 737ms\tremaining: 3.04s\n195:\tlearn: 0.1759764\ttotal: 740ms\tremaining: 3.04s\n196:\tlearn: 0.1756050\ttotal: 744ms\tremaining: 3.03s\n197:\tlearn: 0.1751900\ttotal: 746ms\tremaining: 3.02s\n198:\tlearn: 0.1748403\ttotal: 749ms\tremaining: 3.01s\n199:\tlearn: 0.1746103\ttotal: 751ms\tremaining: 3s\n200:\tlearn: 0.1742551\ttotal: 753ms\tremaining: 2.99s\n201:\tlearn: 0.1738949\ttotal: 757ms\tremaining: 2.99s\n202:\tlearn: 0.1735881\ttotal: 764ms\tremaining: 3s\n203:\tlearn: 0.1733300\ttotal: 767ms\tremaining: 2.99s\n204:\tlearn: 0.1728713\ttotal: 774ms\tremaining: 3s\n205:\tlearn: 0.1726695\ttotal: 778ms\tremaining: 3s\n206:\tlearn: 0.1720360\ttotal: 791ms\tremaining: 3.03s\n207:\tlearn: 0.1717637\ttotal: 795ms\tremaining: 3.03s\n208:\tlearn: 0.1715325\ttotal: 798ms\tremaining: 3.02s\n209:\tlearn: 0.1709948\ttotal: 804ms\tremaining: 3.02s\n210:\tlearn: 0.1705742\ttotal: 807ms\tremaining: 3.02s\n211:\tlearn: 0.1704067\ttotal: 813ms\tremaining: 3.02s\n212:\tlearn: 0.1701733\ttotal: 819ms\tremaining: 3.03s\n213:\tlearn: 0.1698402\ttotal: 823ms\tremaining: 3.02s\n214:\tlearn: 0.1694590\ttotal: 826ms\tremaining: 3.02s\n215:\tlearn: 0.1691790\ttotal: 829ms\tremaining: 3.01s\n216:\tlearn: 0.1688872\ttotal: 832ms\tremaining: 3s\n217:\tlearn: 0.1686998\ttotal: 836ms\tremaining: 3s\n218:\tlearn: 0.1682570\ttotal: 839ms\tremaining: 2.99s\n219:\tlearn: 0.1679439\ttotal: 842ms\tremaining: 2.98s\n220:\tlearn: 0.1674774\ttotal: 845ms\tremaining: 2.98s\n221:\tlearn: 0.1671527\ttotal: 848ms\tremaining: 2.97s\n222:\tlearn: 0.1669580\ttotal: 851ms\tremaining: 2.96s\n223:\tlearn: 0.1667442\ttotal: 856ms\tremaining: 2.97s\n224:\tlearn: 0.1665098\ttotal: 859ms\tremaining: 2.96s\n225:\tlearn: 0.1663919\ttotal: 861ms\tremaining: 2.95s\n226:\tlearn: 0.1659160\ttotal: 867ms\tremaining: 2.95s\n227:\tlearn: 0.1655508\ttotal: 871ms\tremaining: 2.95s\n228:\tlearn: 0.1651182\ttotal: 874ms\tremaining: 2.94s\n229:\tlearn: 0.1646801\ttotal: 877ms\tremaining: 2.94s\n230:\tlearn: 0.1643822\ttotal: 886ms\tremaining: 2.95s\n231:\tlearn: 0.1641128\ttotal: 888ms\tremaining: 2.94s\n232:\tlearn: 0.1638734\ttotal: 892ms\tremaining: 2.94s\n233:\tlearn: 0.1636269\ttotal: 896ms\tremaining: 2.93s\n234:\tlearn: 0.1635060\ttotal: 902ms\tremaining: 2.94s\n235:\tlearn: 0.1632843\ttotal: 908ms\tremaining: 2.94s\n236:\tlearn: 0.1631154\ttotal: 911ms\tremaining: 2.93s\n237:\tlearn: 0.1628294\ttotal: 916ms\tremaining: 2.93s\n238:\tlearn: 0.1624944\ttotal: 921ms\tremaining: 2.93s\n239:\tlearn: 0.1623119\ttotal: 925ms\tremaining: 2.93s\n240:\tlearn: 0.1620730\ttotal: 932ms\tremaining: 2.94s\n241:\tlearn: 0.1619236\ttotal: 937ms\tremaining: 2.93s\n242:\tlearn: 0.1616646\ttotal: 944ms\tremaining: 2.94s\n243:\tlearn: 0.1613016\ttotal: 952ms\tremaining: 2.95s\n244:\tlearn: 0.1609892\ttotal: 956ms\tremaining: 2.94s\n245:\tlearn: 0.1606773\ttotal: 961ms\tremaining: 2.95s\n246:\tlearn: 0.1604050\ttotal: 968ms\tremaining: 2.95s\n247:\tlearn: 0.1601700\ttotal: 972ms\tremaining: 2.95s\n248:\tlearn: 0.1598547\ttotal: 976ms\tremaining: 2.94s\n249:\tlearn: 0.1597094\ttotal: 979ms\tremaining: 2.94s\n250:\tlearn: 0.1593652\ttotal: 992ms\tremaining: 2.96s\n251:\tlearn: 0.1592733\ttotal: 998ms\tremaining: 2.96s\n252:\tlearn: 0.1591331\ttotal: 1s\tremaining: 2.96s\n253:\tlearn: 0.1589901\ttotal: 1.01s\tremaining: 2.96s\n254:\tlearn: 0.1588557\ttotal: 1.02s\tremaining: 2.97s\n255:\tlearn: 0.1586462\ttotal: 1.02s\tremaining: 2.97s\n256:\tlearn: 0.1581464\ttotal: 1.03s\tremaining: 2.97s\n257:\tlearn: 0.1579085\ttotal: 1.03s\tremaining: 2.97s\n258:\tlearn: 0.1576603\ttotal: 1.03s\tremaining: 2.96s\n259:\tlearn: 0.1575181\ttotal: 1.04s\tremaining: 2.97s\n260:\tlearn: 0.1570808\ttotal: 1.04s\tremaining: 2.96s\n261:\tlearn: 0.1567705\ttotal: 1.05s\tremaining: 2.95s\n262:\tlearn: 0.1564537\ttotal: 1.05s\tremaining: 2.94s\n263:\tlearn: 0.1559670\ttotal: 1.06s\tremaining: 2.95s\n264:\tlearn: 0.1557030\ttotal: 1.06s\tremaining: 2.94s\n265:\tlearn: 0.1554859\ttotal: 1.06s\tremaining: 2.94s\n266:\tlearn: 0.1553112\ttotal: 1.07s\tremaining: 2.93s\n267:\tlearn: 0.1551313\ttotal: 1.07s\tremaining: 2.93s\n268:\tlearn: 0.1549989\ttotal: 1.08s\tremaining: 2.93s\n269:\tlearn: 0.1548228\ttotal: 1.08s\tremaining: 2.92s\n270:\tlearn: 0.1546747\ttotal: 1.09s\tremaining: 2.92s\n271:\tlearn: 0.1545221\ttotal: 1.09s\tremaining: 2.91s\n272:\tlearn: 0.1542812\ttotal: 1.09s\tremaining: 2.9s\n273:\tlearn: 0.1540965\ttotal: 1.09s\tremaining: 2.9s\n274:\tlearn: 0.1537434\ttotal: 1.1s\tremaining: 2.89s\n275:\tlearn: 0.1534814\ttotal: 1.1s\tremaining: 2.89s\n276:\tlearn: 0.1532563\ttotal: 1.1s\tremaining: 2.88s\n277:\tlearn: 0.1531270\ttotal: 1.11s\tremaining: 2.88s\n278:\tlearn: 0.1528407\ttotal: 1.11s\tremaining: 2.87s\n279:\tlearn: 0.1527528\ttotal: 1.12s\tremaining: 2.87s\n280:\tlearn: 0.1523945\ttotal: 1.12s\tremaining: 2.87s\n281:\tlearn: 0.1521057\ttotal: 1.12s\tremaining: 2.86s\n282:\tlearn: 0.1520034\ttotal: 1.12s\tremaining: 2.85s\n283:\tlearn: 0.1518354\ttotal: 1.13s\tremaining: 2.86s\n284:\tlearn: 0.1515396\ttotal: 1.14s\tremaining: 2.85s\n285:\tlearn: 0.1514154\ttotal: 1.14s\tremaining: 2.84s\n286:\tlearn: 0.1511519\ttotal: 1.14s\tremaining: 2.84s\n287:\tlearn: 0.1509983\ttotal: 1.15s\tremaining: 2.83s\n288:\tlearn: 0.1508964\ttotal: 1.15s\tremaining: 2.83s\n289:\tlearn: 0.1506738\ttotal: 1.15s\tremaining: 2.82s\n290:\tlearn: 0.1503767\ttotal: 1.16s\tremaining: 2.82s\n291:\tlearn: 0.1502497\ttotal: 1.16s\tremaining: 2.82s\n292:\tlearn: 0.1499361\ttotal: 1.17s\tremaining: 2.81s\n293:\tlearn: 0.1496126\ttotal: 1.18s\tremaining: 2.83s\n294:\tlearn: 0.1493774\ttotal: 1.18s\tremaining: 2.83s\n295:\tlearn: 0.1490385\ttotal: 1.19s\tremaining: 2.83s\n296:\tlearn: 0.1485753\ttotal: 1.19s\tremaining: 2.83s\n297:\tlearn: 0.1482956\ttotal: 1.2s\tremaining: 2.83s\n298:\tlearn: 0.1480940\ttotal: 1.2s\tremaining: 2.82s\n299:\tlearn: 0.1478766\ttotal: 1.21s\tremaining: 2.83s\n300:\tlearn: 0.1478452\ttotal: 1.22s\tremaining: 2.82s\n301:\tlearn: 0.1477969\ttotal: 1.22s\tremaining: 2.81s\n302:\tlearn: 0.1475943\ttotal: 1.22s\tremaining: 2.81s\n303:\tlearn: 0.1472734\ttotal: 1.23s\tremaining: 2.81s\n304:\tlearn: 0.1470598\ttotal: 1.23s\tremaining: 2.81s\n305:\tlearn: 0.1469647\ttotal: 1.24s\tremaining: 2.81s\n306:\tlearn: 0.1467218\ttotal: 1.25s\tremaining: 2.83s\n307:\tlearn: 0.1464704\ttotal: 1.28s\tremaining: 2.87s\n308:\tlearn: 0.1462791\ttotal: 1.28s\tremaining: 2.87s\n309:\tlearn: 0.1461906\ttotal: 1.29s\tremaining: 2.88s\n310:\tlearn: 0.1460039\ttotal: 1.3s\tremaining: 2.87s\n311:\tlearn: 0.1457768\ttotal: 1.3s\tremaining: 2.87s\n312:\tlearn: 0.1455155\ttotal: 1.31s\tremaining: 2.87s\n313:\tlearn: 0.1453261\ttotal: 1.31s\tremaining: 2.86s\n314:\tlearn: 0.1451623\ttotal: 1.32s\tremaining: 2.88s\n315:\tlearn: 0.1450740\ttotal: 1.33s\tremaining: 2.87s\n316:\tlearn: 0.1449976\ttotal: 1.33s\tremaining: 2.87s\n317:\tlearn: 0.1448576\ttotal: 1.34s\tremaining: 2.87s\n318:\tlearn: 0.1447010\ttotal: 1.34s\tremaining: 2.86s\n319:\tlearn: 0.1445332\ttotal: 1.34s\tremaining: 2.85s\n320:\tlearn: 0.1444227\ttotal: 1.35s\tremaining: 2.85s\n321:\tlearn: 0.1442229\ttotal: 1.35s\tremaining: 2.85s\n322:\tlearn: 0.1440506\ttotal: 1.35s\tremaining: 2.84s\n323:\tlearn: 0.1438812\ttotal: 1.36s\tremaining: 2.84s\n324:\tlearn: 0.1436693\ttotal: 1.37s\tremaining: 2.84s\n325:\tlearn: 0.1433792\ttotal: 1.37s\tremaining: 2.84s\n326:\tlearn: 0.1433312\ttotal: 1.38s\tremaining: 2.83s\n327:\tlearn: 0.1432700\ttotal: 1.38s\tremaining: 2.83s\n328:\tlearn: 0.1431098\ttotal: 1.39s\tremaining: 2.83s\n329:\tlearn: 0.1429985\ttotal: 1.39s\tremaining: 2.82s\n330:\tlearn: 0.1428911\ttotal: 1.39s\tremaining: 2.81s\n331:\tlearn: 0.1428009\ttotal: 1.4s\tremaining: 2.81s\n332:\tlearn: 0.1423851\ttotal: 1.4s\tremaining: 2.8s\n333:\tlearn: 0.1422545\ttotal: 1.4s\tremaining: 2.79s\n334:\tlearn: 0.1421411\ttotal: 1.4s\tremaining: 2.79s\n335:\tlearn: 0.1417345\ttotal: 1.41s\tremaining: 2.79s\n336:\tlearn: 0.1416025\ttotal: 1.41s\tremaining: 2.78s\n337:\tlearn: 0.1414244\ttotal: 1.42s\tremaining: 2.77s\n338:\tlearn: 0.1412648\ttotal: 1.42s\tremaining: 2.77s\n339:\tlearn: 0.1411484\ttotal: 1.42s\tremaining: 2.76s\n340:\tlearn: 0.1409788\ttotal: 1.43s\tremaining: 2.75s\n341:\tlearn: 0.1409091\ttotal: 1.43s\tremaining: 2.75s\n342:\tlearn: 0.1407450\ttotal: 1.43s\tremaining: 2.74s\n343:\tlearn: 0.1404537\ttotal: 1.43s\tremaining: 2.73s\n344:\tlearn: 0.1401321\ttotal: 1.44s\tremaining: 2.73s\n345:\tlearn: 0.1398696\ttotal: 1.44s\tremaining: 2.72s\n346:\tlearn: 0.1397097\ttotal: 1.44s\tremaining: 2.72s\n347:\tlearn: 0.1394258\ttotal: 1.45s\tremaining: 2.71s\n348:\tlearn: 0.1392515\ttotal: 1.45s\tremaining: 2.7s\n349:\tlearn: 0.1391336\ttotal: 1.45s\tremaining: 2.69s\n350:\tlearn: 0.1388573\ttotal: 1.46s\tremaining: 2.69s\n351:\tlearn: 0.1387270\ttotal: 1.46s\tremaining: 2.69s\n352:\tlearn: 0.1386428\ttotal: 1.46s\tremaining: 2.68s\n353:\tlearn: 0.1383621\ttotal: 1.46s\tremaining: 2.67s\n354:\tlearn: 0.1382908\ttotal: 1.47s\tremaining: 2.67s\n355:\tlearn: 0.1380951\ttotal: 1.47s\tremaining: 2.66s\n356:\tlearn: 0.1378559\ttotal: 1.47s\tremaining: 2.65s\n357:\tlearn: 0.1376199\ttotal: 1.48s\tremaining: 2.65s\n358:\tlearn: 0.1373178\ttotal: 1.48s\tremaining: 2.64s\n359:\tlearn: 0.1369798\ttotal: 1.48s\tremaining: 2.63s\n360:\tlearn: 0.1367259\ttotal: 1.48s\tremaining: 2.63s\n361:\tlearn: 0.1366517\ttotal: 1.49s\tremaining: 2.62s\n362:\tlearn: 0.1364914\ttotal: 1.49s\tremaining: 2.61s\n363:\tlearn: 0.1364589\ttotal: 1.49s\tremaining: 2.61s\n364:\tlearn: 0.1362820\ttotal: 1.49s\tremaining: 2.6s\n365:\tlearn: 0.1361894\ttotal: 1.5s\tremaining: 2.6s\n366:\tlearn: 0.1359454\ttotal: 1.5s\tremaining: 2.59s\n367:\tlearn: 0.1358340\ttotal: 1.5s\tremaining: 2.58s\n368:\tlearn: 0.1357451\ttotal: 1.51s\tremaining: 2.58s\n369:\tlearn: 0.1355741\ttotal: 1.51s\tremaining: 2.57s\n370:\tlearn: 0.1354156\ttotal: 1.51s\tremaining: 2.56s\n371:\tlearn: 0.1352593\ttotal: 1.52s\tremaining: 2.56s\n372:\tlearn: 0.1351354\ttotal: 1.52s\tremaining: 2.56s\n373:\tlearn: 0.1349220\ttotal: 1.53s\tremaining: 2.56s\n374:\tlearn: 0.1348238\ttotal: 1.53s\tremaining: 2.56s\n375:\tlearn: 0.1346116\ttotal: 1.54s\tremaining: 2.55s\n376:\tlearn: 0.1344760\ttotal: 1.55s\tremaining: 2.56s\n377:\tlearn: 0.1342606\ttotal: 1.55s\tremaining: 2.56s\n378:\tlearn: 0.1340356\ttotal: 1.56s\tremaining: 2.56s\n379:\tlearn: 0.1338675\ttotal: 1.56s\tremaining: 2.55s\n380:\tlearn: 0.1336712\ttotal: 1.57s\tremaining: 2.55s\n381:\tlearn: 0.1335308\ttotal: 1.57s\tremaining: 2.54s\n382:\tlearn: 0.1333861\ttotal: 1.57s\tremaining: 2.53s\n383:\tlearn: 0.1331827\ttotal: 1.58s\tremaining: 2.53s\n384:\tlearn: 0.1329903\ttotal: 1.58s\tremaining: 2.53s\n385:\tlearn: 0.1327758\ttotal: 1.59s\tremaining: 2.52s\n386:\tlearn: 0.1326502\ttotal: 1.59s\tremaining: 2.52s\n387:\tlearn: 0.1325530\ttotal: 1.59s\tremaining: 2.51s\n388:\tlearn: 0.1323001\ttotal: 1.6s\tremaining: 2.51s\n389:\tlearn: 0.1321580\ttotal: 1.6s\tremaining: 2.5s\n390:\tlearn: 0.1320252\ttotal: 1.6s\tremaining: 2.5s\n391:\tlearn: 0.1317890\ttotal: 1.6s\tremaining: 2.49s\n392:\tlearn: 0.1316258\ttotal: 1.61s\tremaining: 2.49s\n393:\tlearn: 0.1315161\ttotal: 1.61s\tremaining: 2.48s\n394:\tlearn: 0.1311546\ttotal: 1.62s\tremaining: 2.48s\n395:\tlearn: 0.1311358\ttotal: 1.62s\tremaining: 2.47s\n396:\tlearn: 0.1310809\ttotal: 1.63s\tremaining: 2.47s\n397:\tlearn: 0.1309681\ttotal: 1.63s\tremaining: 2.46s\n398:\tlearn: 0.1307785\ttotal: 1.63s\tremaining: 2.46s\n399:\tlearn: 0.1305333\ttotal: 1.63s\tremaining: 2.45s\n400:\tlearn: 0.1304345\ttotal: 1.64s\tremaining: 2.44s\n401:\tlearn: 0.1301989\ttotal: 1.64s\tremaining: 2.44s\n402:\tlearn: 0.1300826\ttotal: 1.64s\tremaining: 2.43s\n403:\tlearn: 0.1299924\ttotal: 1.65s\tremaining: 2.43s\n404:\tlearn: 0.1298540\ttotal: 1.65s\tremaining: 2.42s\n405:\tlearn: 0.1294892\ttotal: 1.65s\tremaining: 2.42s\n406:\tlearn: 0.1293209\ttotal: 1.65s\tremaining: 2.41s\n407:\tlearn: 0.1292641\ttotal: 1.66s\tremaining: 2.4s\n408:\tlearn: 0.1291467\ttotal: 1.66s\tremaining: 2.4s\n409:\tlearn: 0.1290770\ttotal: 1.66s\tremaining: 2.39s\n410:\tlearn: 0.1288922\ttotal: 1.67s\tremaining: 2.39s\n411:\tlearn: 0.1286616\ttotal: 1.67s\tremaining: 2.38s\n412:\tlearn: 0.1285757\ttotal: 1.67s\tremaining: 2.38s\n413:\tlearn: 0.1284497\ttotal: 1.68s\tremaining: 2.37s\n414:\tlearn: 0.1283696\ttotal: 1.68s\tremaining: 2.37s\n415:\tlearn: 0.1282294\ttotal: 1.68s\tremaining: 2.36s\n416:\tlearn: 0.1279917\ttotal: 1.68s\tremaining: 2.35s\n417:\tlearn: 0.1277450\ttotal: 1.69s\tremaining: 2.35s\n418:\tlearn: 0.1276118\ttotal: 1.69s\tremaining: 2.35s\n419:\tlearn: 0.1275095\ttotal: 1.69s\tremaining: 2.34s\n420:\tlearn: 0.1273555\ttotal: 1.7s\tremaining: 2.33s\n421:\tlearn: 0.1270480\ttotal: 1.7s\tremaining: 2.33s\n422:\tlearn: 0.1269225\ttotal: 1.7s\tremaining: 2.32s\n423:\tlearn: 0.1267923\ttotal: 1.71s\tremaining: 2.32s\n424:\tlearn: 0.1267343\ttotal: 1.71s\tremaining: 2.31s\n425:\tlearn: 0.1265927\ttotal: 1.71s\tremaining: 2.31s\n426:\tlearn: 0.1265426\ttotal: 1.73s\tremaining: 2.31s\n427:\tlearn: 0.1262835\ttotal: 1.73s\tremaining: 2.31s\n428:\tlearn: 0.1258447\ttotal: 1.73s\tremaining: 2.31s\n429:\tlearn: 0.1257891\ttotal: 1.74s\tremaining: 2.3s\n430:\tlearn: 0.1257068\ttotal: 1.74s\tremaining: 2.29s\n431:\tlearn: 0.1254998\ttotal: 1.74s\tremaining: 2.29s\n432:\tlearn: 0.1253548\ttotal: 1.75s\tremaining: 2.29s\n433:\tlearn: 0.1252774\ttotal: 1.75s\tremaining: 2.28s\n434:\tlearn: 0.1251534\ttotal: 1.75s\tremaining: 2.28s\n435:\tlearn: 0.1250793\ttotal: 1.76s\tremaining: 2.27s\n436:\tlearn: 0.1250076\ttotal: 1.76s\tremaining: 2.27s\n437:\tlearn: 0.1248324\ttotal: 1.77s\tremaining: 2.27s\n438:\tlearn: 0.1247813\ttotal: 1.77s\tremaining: 2.26s\n439:\tlearn: 0.1245608\ttotal: 1.77s\tremaining: 2.26s\n440:\tlearn: 0.1244936\ttotal: 1.77s\tremaining: 2.25s\n441:\tlearn: 0.1244046\ttotal: 1.78s\tremaining: 2.24s\n442:\tlearn: 0.1241669\ttotal: 1.78s\tremaining: 2.24s\n443:\tlearn: 0.1240384\ttotal: 1.79s\tremaining: 2.24s\n444:\tlearn: 0.1237984\ttotal: 1.79s\tremaining: 2.23s\n445:\tlearn: 0.1236533\ttotal: 1.79s\tremaining: 2.23s\n446:\tlearn: 0.1235366\ttotal: 1.79s\tremaining: 2.22s\n447:\tlearn: 0.1232949\ttotal: 1.8s\tremaining: 2.21s\n448:\tlearn: 0.1231809\ttotal: 1.8s\tremaining: 2.21s\n449:\tlearn: 0.1229991\ttotal: 1.8s\tremaining: 2.21s\n450:\tlearn: 0.1228239\ttotal: 1.81s\tremaining: 2.2s\n451:\tlearn: 0.1227288\ttotal: 1.81s\tremaining: 2.2s\n452:\tlearn: 0.1225249\ttotal: 1.81s\tremaining: 2.19s\n453:\tlearn: 0.1224242\ttotal: 1.82s\tremaining: 2.19s\n454:\tlearn: 0.1222493\ttotal: 1.82s\tremaining: 2.18s\n455:\tlearn: 0.1220998\ttotal: 1.82s\tremaining: 2.18s\n456:\tlearn: 0.1219973\ttotal: 1.83s\tremaining: 2.17s\n457:\tlearn: 0.1218955\ttotal: 1.83s\tremaining: 2.17s\n458:\tlearn: 0.1217778\ttotal: 1.83s\tremaining: 2.16s\n459:\tlearn: 0.1216039\ttotal: 1.84s\tremaining: 2.16s\n460:\tlearn: 0.1215314\ttotal: 1.84s\tremaining: 2.15s\n461:\tlearn: 0.1214209\ttotal: 1.84s\tremaining: 2.15s\n462:\tlearn: 0.1213615\ttotal: 1.85s\tremaining: 2.14s\n463:\tlearn: 0.1213223\ttotal: 1.85s\tremaining: 2.14s\n464:\tlearn: 0.1212477\ttotal: 1.85s\tremaining: 2.13s\n465:\tlearn: 0.1211816\ttotal: 1.86s\tremaining: 2.13s\n466:\tlearn: 0.1211318\ttotal: 1.86s\tremaining: 2.12s\n467:\tlearn: 0.1210822\ttotal: 1.86s\tremaining: 2.12s\n468:\tlearn: 0.1210123\ttotal: 1.87s\tremaining: 2.12s\n469:\tlearn: 0.1208591\ttotal: 1.87s\tremaining: 2.11s\n470:\tlearn: 0.1206951\ttotal: 1.87s\tremaining: 2.1s\n471:\tlearn: 0.1205065\ttotal: 1.88s\tremaining: 2.1s\n472:\tlearn: 0.1204824\ttotal: 1.88s\tremaining: 2.1s\n473:\tlearn: 0.1204080\ttotal: 1.89s\tremaining: 2.09s\n474:\tlearn: 0.1202502\ttotal: 1.89s\tremaining: 2.09s\n475:\tlearn: 0.1201088\ttotal: 1.89s\tremaining: 2.08s\n476:\tlearn: 0.1199933\ttotal: 1.9s\tremaining: 2.08s\n477:\tlearn: 0.1198722\ttotal: 1.9s\tremaining: 2.07s\n478:\tlearn: 0.1197919\ttotal: 1.9s\tremaining: 2.07s\n479:\tlearn: 0.1197197\ttotal: 1.91s\tremaining: 2.07s\n480:\tlearn: 0.1195207\ttotal: 1.91s\tremaining: 2.06s\n481:\tlearn: 0.1193336\ttotal: 1.92s\tremaining: 2.06s\n482:\tlearn: 0.1192351\ttotal: 1.92s\tremaining: 2.06s\n483:\tlearn: 0.1190966\ttotal: 1.93s\tremaining: 2.05s\n484:\tlearn: 0.1190337\ttotal: 1.93s\tremaining: 2.05s\n485:\tlearn: 0.1188629\ttotal: 1.93s\tremaining: 2.04s\n486:\tlearn: 0.1187951\ttotal: 1.94s\tremaining: 2.04s\n487:\tlearn: 0.1187548\ttotal: 1.94s\tremaining: 2.04s\n488:\tlearn: 0.1184844\ttotal: 1.95s\tremaining: 2.03s\n489:\tlearn: 0.1184538\ttotal: 1.95s\tremaining: 2.03s\n490:\tlearn: 0.1183198\ttotal: 1.95s\tremaining: 2.02s\n491:\tlearn: 0.1182170\ttotal: 1.96s\tremaining: 2.02s\n492:\tlearn: 0.1180367\ttotal: 1.96s\tremaining: 2.02s\n493:\tlearn: 0.1178516\ttotal: 1.96s\tremaining: 2.01s\n494:\tlearn: 0.1178146\ttotal: 1.97s\tremaining: 2.01s\n495:\tlearn: 0.1177824\ttotal: 1.97s\tremaining: 2s\n496:\tlearn: 0.1175576\ttotal: 1.97s\tremaining: 2s\n497:\tlearn: 0.1174909\ttotal: 1.98s\tremaining: 1.99s\n498:\tlearn: 0.1174530\ttotal: 1.98s\tremaining: 1.99s\n499:\tlearn: 0.1174263\ttotal: 1.98s\tremaining: 1.98s\n500:\tlearn: 0.1173406\ttotal: 1.99s\tremaining: 1.98s\n501:\tlearn: 0.1171452\ttotal: 1.99s\tremaining: 1.97s\n502:\tlearn: 0.1170484\ttotal: 1.99s\tremaining: 1.97s\n503:\tlearn: 0.1169064\ttotal: 1.99s\tremaining: 1.96s\n504:\tlearn: 0.1168411\ttotal: 2s\tremaining: 1.96s\n505:\tlearn: 0.1168063\ttotal: 2s\tremaining: 1.95s\n506:\tlearn: 0.1167590\ttotal: 2s\tremaining: 1.95s\n507:\tlearn: 0.1165211\ttotal: 2.01s\tremaining: 1.94s\n508:\tlearn: 0.1164104\ttotal: 2.01s\tremaining: 1.94s\n509:\tlearn: 0.1163117\ttotal: 2.02s\tremaining: 1.94s\n510:\tlearn: 0.1161791\ttotal: 2.02s\tremaining: 1.93s\n511:\tlearn: 0.1160778\ttotal: 2.02s\tremaining: 1.93s\n512:\tlearn: 0.1158348\ttotal: 2.02s\tremaining: 1.92s\n513:\tlearn: 0.1157403\ttotal: 2.03s\tremaining: 1.92s\n514:\tlearn: 0.1155398\ttotal: 2.03s\tremaining: 1.91s\n515:\tlearn: 0.1154818\ttotal: 2.04s\tremaining: 1.91s\n516:\tlearn: 0.1153152\ttotal: 2.04s\tremaining: 1.9s\n517:\tlearn: 0.1151532\ttotal: 2.04s\tremaining: 1.9s\n518:\tlearn: 0.1151125\ttotal: 2.04s\tremaining: 1.89s\n519:\tlearn: 0.1149526\ttotal: 2.05s\tremaining: 1.89s\n520:\tlearn: 0.1149353\ttotal: 2.05s\tremaining: 1.89s\n521:\tlearn: 0.1148073\ttotal: 2.05s\tremaining: 1.88s\n522:\tlearn: 0.1147087\ttotal: 2.06s\tremaining: 1.87s\n523:\tlearn: 0.1145631\ttotal: 2.06s\tremaining: 1.87s\n524:\tlearn: 0.1144525\ttotal: 2.06s\tremaining: 1.87s\n525:\tlearn: 0.1143791\ttotal: 2.07s\tremaining: 1.86s\n526:\tlearn: 0.1142056\ttotal: 2.07s\tremaining: 1.86s\n527:\tlearn: 0.1140479\ttotal: 2.07s\tremaining: 1.85s\n528:\tlearn: 0.1139306\ttotal: 2.08s\tremaining: 1.85s\n529:\tlearn: 0.1138234\ttotal: 2.08s\tremaining: 1.84s\n530:\tlearn: 0.1136689\ttotal: 2.08s\tremaining: 1.84s\n531:\tlearn: 0.1135639\ttotal: 2.08s\tremaining: 1.83s\n532:\tlearn: 0.1134535\ttotal: 2.09s\tremaining: 1.83s\n533:\tlearn: 0.1133300\ttotal: 2.09s\tremaining: 1.82s\n534:\tlearn: 0.1132356\ttotal: 2.1s\tremaining: 1.82s\n535:\tlearn: 0.1131862\ttotal: 2.1s\tremaining: 1.82s\n536:\tlearn: 0.1130964\ttotal: 2.11s\tremaining: 1.82s\n537:\tlearn: 0.1130396\ttotal: 2.11s\tremaining: 1.81s\n538:\tlearn: 0.1129046\ttotal: 2.11s\tremaining: 1.81s\n539:\tlearn: 0.1128018\ttotal: 2.12s\tremaining: 1.8s\n540:\tlearn: 0.1125518\ttotal: 2.12s\tremaining: 1.8s\n541:\tlearn: 0.1122791\ttotal: 2.12s\tremaining: 1.79s\n542:\tlearn: 0.1122023\ttotal: 2.13s\tremaining: 1.79s\n543:\tlearn: 0.1121170\ttotal: 2.13s\tremaining: 1.79s\n544:\tlearn: 0.1120391\ttotal: 2.13s\tremaining: 1.78s\n545:\tlearn: 0.1119261\ttotal: 2.14s\tremaining: 1.78s\n546:\tlearn: 0.1117845\ttotal: 2.15s\tremaining: 1.78s\n547:\tlearn: 0.1117086\ttotal: 2.15s\tremaining: 1.77s\n548:\tlearn: 0.1116454\ttotal: 2.15s\tremaining: 1.77s\n549:\tlearn: 0.1114653\ttotal: 2.16s\tremaining: 1.76s\n550:\tlearn: 0.1114024\ttotal: 2.16s\tremaining: 1.76s\n551:\tlearn: 0.1112901\ttotal: 2.16s\tremaining: 1.75s\n552:\tlearn: 0.1111212\ttotal: 2.17s\tremaining: 1.75s\n553:\tlearn: 0.1110168\ttotal: 2.17s\tremaining: 1.74s\n554:\tlearn: 0.1108892\ttotal: 2.17s\tremaining: 1.74s\n555:\tlearn: 0.1107502\ttotal: 2.17s\tremaining: 1.74s\n556:\tlearn: 0.1106596\ttotal: 2.18s\tremaining: 1.73s\n557:\tlearn: 0.1104968\ttotal: 2.18s\tremaining: 1.73s\n558:\tlearn: 0.1104332\ttotal: 2.18s\tremaining: 1.72s\n559:\tlearn: 0.1102821\ttotal: 2.19s\tremaining: 1.72s\n560:\tlearn: 0.1100684\ttotal: 2.19s\tremaining: 1.71s\n561:\tlearn: 0.1100058\ttotal: 2.19s\tremaining: 1.71s\n562:\tlearn: 0.1097533\ttotal: 2.19s\tremaining: 1.7s\n563:\tlearn: 0.1096519\ttotal: 2.2s\tremaining: 1.7s\n564:\tlearn: 0.1095081\ttotal: 2.2s\tremaining: 1.7s\n565:\tlearn: 0.1094394\ttotal: 2.21s\tremaining: 1.69s\n566:\tlearn: 0.1092726\ttotal: 2.21s\tremaining: 1.69s\n567:\tlearn: 0.1091383\ttotal: 2.21s\tremaining: 1.68s\n568:\tlearn: 0.1090463\ttotal: 2.22s\tremaining: 1.68s\n569:\tlearn: 0.1088756\ttotal: 2.22s\tremaining: 1.67s\n570:\tlearn: 0.1086102\ttotal: 2.22s\tremaining: 1.67s\n571:\tlearn: 0.1085145\ttotal: 2.22s\tremaining: 1.66s\n572:\tlearn: 0.1083931\ttotal: 2.23s\tremaining: 1.66s\n573:\tlearn: 0.1081851\ttotal: 2.23s\tremaining: 1.66s\n574:\tlearn: 0.1080645\ttotal: 2.23s\tremaining: 1.65s\n575:\tlearn: 0.1080476\ttotal: 2.24s\tremaining: 1.65s\n576:\tlearn: 0.1078736\ttotal: 2.24s\tremaining: 1.64s\n577:\tlearn: 0.1077723\ttotal: 2.24s\tremaining: 1.64s\n578:\tlearn: 0.1076031\ttotal: 2.25s\tremaining: 1.63s\n579:\tlearn: 0.1074872\ttotal: 2.25s\tremaining: 1.63s\n580:\tlearn: 0.1074169\ttotal: 2.25s\tremaining: 1.62s\n581:\tlearn: 0.1073383\ttotal: 2.25s\tremaining: 1.62s\n582:\tlearn: 0.1071482\ttotal: 2.26s\tremaining: 1.61s\n583:\tlearn: 0.1069951\ttotal: 2.26s\tremaining: 1.61s\n584:\tlearn: 0.1069278\ttotal: 2.27s\tremaining: 1.61s\n585:\tlearn: 0.1067679\ttotal: 2.27s\tremaining: 1.6s\n586:\tlearn: 0.1066284\ttotal: 2.27s\tremaining: 1.6s\n587:\tlearn: 0.1065474\ttotal: 2.27s\tremaining: 1.59s\n588:\tlearn: 0.1064901\ttotal: 2.28s\tremaining: 1.59s\n589:\tlearn: 0.1064154\ttotal: 2.28s\tremaining: 1.59s\n590:\tlearn: 0.1062569\ttotal: 2.29s\tremaining: 1.58s\n591:\tlearn: 0.1062260\ttotal: 2.29s\tremaining: 1.58s\n592:\tlearn: 0.1061674\ttotal: 2.3s\tremaining: 1.58s\n593:\tlearn: 0.1061575\ttotal: 2.3s\tremaining: 1.57s\n594:\tlearn: 0.1060780\ttotal: 2.31s\tremaining: 1.57s\n595:\tlearn: 0.1060302\ttotal: 2.31s\tremaining: 1.57s\n596:\tlearn: 0.1058748\ttotal: 2.31s\tremaining: 1.56s\n597:\tlearn: 0.1056730\ttotal: 2.32s\tremaining: 1.56s\n598:\tlearn: 0.1055179\ttotal: 2.32s\tremaining: 1.55s\n599:\tlearn: 0.1054664\ttotal: 2.32s\tremaining: 1.55s\n600:\tlearn: 0.1054275\ttotal: 2.33s\tremaining: 1.55s\n601:\tlearn: 0.1053895\ttotal: 2.34s\tremaining: 1.54s\n602:\tlearn: 0.1052631\ttotal: 2.34s\tremaining: 1.54s\n603:\tlearn: 0.1051965\ttotal: 2.35s\tremaining: 1.54s\n604:\tlearn: 0.1051450\ttotal: 2.35s\tremaining: 1.53s\n605:\tlearn: 0.1050992\ttotal: 2.35s\tremaining: 1.53s\n606:\tlearn: 0.1050331\ttotal: 2.35s\tremaining: 1.52s\n607:\tlearn: 0.1048431\ttotal: 2.36s\tremaining: 1.52s\n608:\tlearn: 0.1047570\ttotal: 2.36s\tremaining: 1.52s\n609:\tlearn: 0.1046843\ttotal: 2.36s\tremaining: 1.51s\n610:\tlearn: 0.1046274\ttotal: 2.37s\tremaining: 1.51s\n611:\tlearn: 0.1045048\ttotal: 2.37s\tremaining: 1.5s\n612:\tlearn: 0.1044641\ttotal: 2.37s\tremaining: 1.5s\n613:\tlearn: 0.1043470\ttotal: 2.38s\tremaining: 1.49s\n614:\tlearn: 0.1041465\ttotal: 2.38s\tremaining: 1.49s\n615:\tlearn: 0.1040813\ttotal: 2.38s\tremaining: 1.48s\n616:\tlearn: 0.1039228\ttotal: 2.38s\tremaining: 1.48s\n617:\tlearn: 0.1038216\ttotal: 2.39s\tremaining: 1.48s\n618:\tlearn: 0.1036500\ttotal: 2.39s\tremaining: 1.47s\n619:\tlearn: 0.1035592\ttotal: 2.4s\tremaining: 1.47s\n620:\tlearn: 0.1034550\ttotal: 2.4s\tremaining: 1.46s\n621:\tlearn: 0.1033913\ttotal: 2.4s\tremaining: 1.46s\n622:\tlearn: 0.1032491\ttotal: 2.4s\tremaining: 1.46s\n623:\tlearn: 0.1032191\ttotal: 2.41s\tremaining: 1.45s\n624:\tlearn: 0.1031515\ttotal: 2.41s\tremaining: 1.45s\n625:\tlearn: 0.1030794\ttotal: 2.41s\tremaining: 1.44s\n626:\tlearn: 0.1029514\ttotal: 2.42s\tremaining: 1.44s\n627:\tlearn: 0.1029312\ttotal: 2.42s\tremaining: 1.43s\n628:\tlearn: 0.1027915\ttotal: 2.42s\tremaining: 1.43s\n629:\tlearn: 0.1026935\ttotal: 2.43s\tremaining: 1.43s\n630:\tlearn: 0.1025532\ttotal: 2.43s\tremaining: 1.42s\n631:\tlearn: 0.1024557\ttotal: 2.43s\tremaining: 1.42s\n632:\tlearn: 0.1023651\ttotal: 2.44s\tremaining: 1.41s\n633:\tlearn: 0.1021712\ttotal: 2.44s\tremaining: 1.41s\n634:\tlearn: 0.1020402\ttotal: 2.44s\tremaining: 1.4s\n635:\tlearn: 0.1019423\ttotal: 2.44s\tremaining: 1.4s\n636:\tlearn: 0.1018882\ttotal: 2.45s\tremaining: 1.39s\n637:\tlearn: 0.1018141\ttotal: 2.45s\tremaining: 1.39s\n638:\tlearn: 0.1017367\ttotal: 2.45s\tremaining: 1.39s\n639:\tlearn: 0.1014943\ttotal: 2.46s\tremaining: 1.38s\n640:\tlearn: 0.1013568\ttotal: 2.46s\tremaining: 1.38s\n641:\tlearn: 0.1013194\ttotal: 2.46s\tremaining: 1.37s\n642:\tlearn: 0.1012306\ttotal: 2.47s\tremaining: 1.37s\n643:\tlearn: 0.1011762\ttotal: 2.47s\tremaining: 1.36s\n644:\tlearn: 0.1010681\ttotal: 2.47s\tremaining: 1.36s\n645:\tlearn: 0.1009820\ttotal: 2.48s\tremaining: 1.36s\n646:\tlearn: 0.1009084\ttotal: 2.48s\tremaining: 1.35s\n647:\tlearn: 0.1008064\ttotal: 2.49s\tremaining: 1.35s\n648:\tlearn: 0.1006689\ttotal: 2.5s\tremaining: 1.35s\n649:\tlearn: 0.1006287\ttotal: 2.5s\tremaining: 1.35s\n650:\tlearn: 0.1004861\ttotal: 2.51s\tremaining: 1.34s\n651:\tlearn: 0.1003543\ttotal: 2.51s\tremaining: 1.34s\n652:\tlearn: 0.1001740\ttotal: 2.51s\tremaining: 1.34s\n653:\tlearn: 0.1000360\ttotal: 2.52s\tremaining: 1.33s\n654:\tlearn: 0.0998071\ttotal: 2.53s\tremaining: 1.33s\n655:\tlearn: 0.0996933\ttotal: 2.54s\tremaining: 1.33s\n656:\tlearn: 0.0996045\ttotal: 2.54s\tremaining: 1.32s\n657:\tlearn: 0.0995312\ttotal: 2.54s\tremaining: 1.32s\n658:\tlearn: 0.0994078\ttotal: 2.54s\tremaining: 1.32s\n659:\tlearn: 0.0993433\ttotal: 2.55s\tremaining: 1.31s\n660:\tlearn: 0.0991286\ttotal: 2.55s\tremaining: 1.31s\n661:\tlearn: 0.0990345\ttotal: 2.55s\tremaining: 1.3s\n662:\tlearn: 0.0989190\ttotal: 2.56s\tremaining: 1.3s\n663:\tlearn: 0.0987495\ttotal: 2.56s\tremaining: 1.29s\n664:\tlearn: 0.0986678\ttotal: 2.56s\tremaining: 1.29s\n665:\tlearn: 0.0985984\ttotal: 2.57s\tremaining: 1.29s\n666:\tlearn: 0.0983867\ttotal: 2.57s\tremaining: 1.28s\n667:\tlearn: 0.0983097\ttotal: 2.57s\tremaining: 1.28s\n668:\tlearn: 0.0983019\ttotal: 2.58s\tremaining: 1.27s\n669:\tlearn: 0.0981877\ttotal: 2.58s\tremaining: 1.27s\n670:\tlearn: 0.0981341\ttotal: 2.58s\tremaining: 1.27s\n671:\tlearn: 0.0979760\ttotal: 2.59s\tremaining: 1.26s\n672:\tlearn: 0.0978884\ttotal: 2.59s\tremaining: 1.26s\n673:\tlearn: 0.0977377\ttotal: 2.59s\tremaining: 1.25s\n674:\tlearn: 0.0976626\ttotal: 2.59s\tremaining: 1.25s\n675:\tlearn: 0.0975425\ttotal: 2.6s\tremaining: 1.24s\n676:\tlearn: 0.0974338\ttotal: 2.6s\tremaining: 1.24s\n677:\tlearn: 0.0972881\ttotal: 2.6s\tremaining: 1.24s\n678:\tlearn: 0.0972739\ttotal: 2.61s\tremaining: 1.23s\n679:\tlearn: 0.0972406\ttotal: 2.61s\tremaining: 1.23s\n680:\tlearn: 0.0971942\ttotal: 2.61s\tremaining: 1.22s\n681:\tlearn: 0.0971527\ttotal: 2.62s\tremaining: 1.22s\n682:\tlearn: 0.0971182\ttotal: 2.62s\tremaining: 1.22s\n683:\tlearn: 0.0970610\ttotal: 2.62s\tremaining: 1.21s\n684:\tlearn: 0.0968649\ttotal: 2.63s\tremaining: 1.21s\n685:\tlearn: 0.0968379\ttotal: 2.63s\tremaining: 1.2s\n686:\tlearn: 0.0967487\ttotal: 2.63s\tremaining: 1.2s\n687:\tlearn: 0.0966262\ttotal: 2.63s\tremaining: 1.19s\n688:\tlearn: 0.0964530\ttotal: 2.64s\tremaining: 1.19s\n689:\tlearn: 0.0963989\ttotal: 2.64s\tremaining: 1.19s\n690:\tlearn: 0.0962826\ttotal: 2.64s\tremaining: 1.18s\n691:\tlearn: 0.0961511\ttotal: 2.65s\tremaining: 1.18s\n692:\tlearn: 0.0960913\ttotal: 2.65s\tremaining: 1.17s\n693:\tlearn: 0.0960298\ttotal: 2.65s\tremaining: 1.17s\n694:\tlearn: 0.0959004\ttotal: 2.66s\tremaining: 1.17s\n695:\tlearn: 0.0958190\ttotal: 2.66s\tremaining: 1.16s\n696:\tlearn: 0.0957092\ttotal: 2.66s\tremaining: 1.16s\n697:\tlearn: 0.0956205\ttotal: 2.67s\tremaining: 1.15s\n698:\tlearn: 0.0955774\ttotal: 2.67s\tremaining: 1.15s\n699:\tlearn: 0.0954548\ttotal: 2.68s\tremaining: 1.15s\n700:\tlearn: 0.0953860\ttotal: 2.68s\tremaining: 1.14s\n701:\tlearn: 0.0953299\ttotal: 2.69s\tremaining: 1.14s\n702:\tlearn: 0.0952815\ttotal: 2.69s\tremaining: 1.14s\n703:\tlearn: 0.0952361\ttotal: 2.69s\tremaining: 1.13s\n704:\tlearn: 0.0951855\ttotal: 2.69s\tremaining: 1.13s\n705:\tlearn: 0.0951093\ttotal: 2.7s\tremaining: 1.12s\n706:\tlearn: 0.0950528\ttotal: 2.7s\tremaining: 1.12s\n707:\tlearn: 0.0949510\ttotal: 2.71s\tremaining: 1.11s\n708:\tlearn: 0.0948848\ttotal: 2.71s\tremaining: 1.11s\n709:\tlearn: 0.0948156\ttotal: 2.71s\tremaining: 1.11s\n710:\tlearn: 0.0947582\ttotal: 2.72s\tremaining: 1.11s\n711:\tlearn: 0.0946937\ttotal: 2.73s\tremaining: 1.1s\n712:\tlearn: 0.0946314\ttotal: 2.73s\tremaining: 1.1s\n713:\tlearn: 0.0945941\ttotal: 2.73s\tremaining: 1.09s\n714:\tlearn: 0.0945120\ttotal: 2.74s\tremaining: 1.09s\n715:\tlearn: 0.0944791\ttotal: 2.74s\tremaining: 1.09s\n716:\tlearn: 0.0943928\ttotal: 2.74s\tremaining: 1.08s\n717:\tlearn: 0.0942507\ttotal: 2.75s\tremaining: 1.08s\n718:\tlearn: 0.0941824\ttotal: 2.75s\tremaining: 1.07s\n719:\tlearn: 0.0941121\ttotal: 2.75s\tremaining: 1.07s\n720:\tlearn: 0.0940201\ttotal: 2.75s\tremaining: 1.06s\n721:\tlearn: 0.0939333\ttotal: 2.76s\tremaining: 1.06s\n722:\tlearn: 0.0938962\ttotal: 2.76s\tremaining: 1.06s\n723:\tlearn: 0.0938133\ttotal: 2.77s\tremaining: 1.05s\n724:\tlearn: 0.0937299\ttotal: 2.77s\tremaining: 1.05s\n725:\tlearn: 0.0936631\ttotal: 2.77s\tremaining: 1.05s\n726:\tlearn: 0.0936150\ttotal: 2.78s\tremaining: 1.04s\n727:\tlearn: 0.0935583\ttotal: 2.78s\tremaining: 1.04s\n728:\tlearn: 0.0935258\ttotal: 2.78s\tremaining: 1.03s\n729:\tlearn: 0.0934825\ttotal: 2.78s\tremaining: 1.03s\n730:\tlearn: 0.0933245\ttotal: 2.79s\tremaining: 1.02s\n731:\tlearn: 0.0932070\ttotal: 2.79s\tremaining: 1.02s\n732:\tlearn: 0.0931558\ttotal: 2.79s\tremaining: 1.02s\n733:\tlearn: 0.0931121\ttotal: 2.79s\tremaining: 1.01s\n734:\tlearn: 0.0930731\ttotal: 2.8s\tremaining: 1.01s\n735:\tlearn: 0.0929378\ttotal: 2.8s\tremaining: 1s\n736:\tlearn: 0.0928681\ttotal: 2.8s\tremaining: 1s\n737:\tlearn: 0.0927307\ttotal: 2.81s\tremaining: 997ms\n738:\tlearn: 0.0926308\ttotal: 2.81s\tremaining: 992ms\n739:\tlearn: 0.0925258\ttotal: 2.81s\tremaining: 988ms\n740:\tlearn: 0.0924005\ttotal: 2.81s\tremaining: 984ms\n741:\tlearn: 0.0923011\ttotal: 2.82s\tremaining: 980ms\n742:\tlearn: 0.0922320\ttotal: 2.82s\tremaining: 976ms\n743:\tlearn: 0.0921074\ttotal: 2.83s\tremaining: 972ms\n744:\tlearn: 0.0919813\ttotal: 2.83s\tremaining: 968ms\n745:\tlearn: 0.0918643\ttotal: 2.83s\tremaining: 964ms\n746:\tlearn: 0.0918278\ttotal: 2.83s\tremaining: 960ms\n747:\tlearn: 0.0917879\ttotal: 2.84s\tremaining: 956ms\n748:\tlearn: 0.0916994\ttotal: 2.84s\tremaining: 952ms\n749:\tlearn: 0.0915954\ttotal: 2.84s\tremaining: 948ms\n750:\tlearn: 0.0915163\ttotal: 2.85s\tremaining: 944ms\n751:\tlearn: 0.0913796\ttotal: 2.85s\tremaining: 940ms\n752:\tlearn: 0.0913365\ttotal: 2.86s\tremaining: 937ms\n753:\tlearn: 0.0912219\ttotal: 2.87s\tremaining: 936ms\n754:\tlearn: 0.0911930\ttotal: 2.87s\tremaining: 933ms\n755:\tlearn: 0.0910719\ttotal: 2.88s\tremaining: 929ms\n756:\tlearn: 0.0908704\ttotal: 2.88s\tremaining: 926ms\n757:\tlearn: 0.0906636\ttotal: 2.89s\tremaining: 921ms\n758:\tlearn: 0.0904690\ttotal: 2.89s\tremaining: 918ms\n759:\tlearn: 0.0904041\ttotal: 2.89s\tremaining: 914ms\n760:\tlearn: 0.0903017\ttotal: 2.9s\tremaining: 911ms\n761:\tlearn: 0.0902549\ttotal: 2.91s\tremaining: 908ms\n762:\tlearn: 0.0902285\ttotal: 2.91s\tremaining: 905ms\n763:\tlearn: 0.0901545\ttotal: 2.92s\tremaining: 901ms\n764:\tlearn: 0.0901072\ttotal: 2.92s\tremaining: 896ms\n765:\tlearn: 0.0900894\ttotal: 2.92s\tremaining: 892ms\n766:\tlearn: 0.0899991\ttotal: 2.92s\tremaining: 888ms\n767:\tlearn: 0.0899248\ttotal: 2.93s\tremaining: 884ms\n768:\tlearn: 0.0899015\ttotal: 2.93s\tremaining: 880ms\n769:\tlearn: 0.0898684\ttotal: 2.93s\tremaining: 876ms\n770:\tlearn: 0.0898386\ttotal: 2.93s\tremaining: 872ms\n771:\tlearn: 0.0897116\ttotal: 2.94s\tremaining: 867ms\n772:\tlearn: 0.0895704\ttotal: 2.94s\tremaining: 864ms\n773:\tlearn: 0.0894710\ttotal: 2.94s\tremaining: 860ms\n774:\tlearn: 0.0893600\ttotal: 2.95s\tremaining: 856ms\n775:\tlearn: 0.0893274\ttotal: 2.95s\tremaining: 852ms\n776:\tlearn: 0.0892596\ttotal: 2.95s\tremaining: 848ms\n777:\tlearn: 0.0891960\ttotal: 2.96s\tremaining: 844ms\n778:\tlearn: 0.0890760\ttotal: 2.96s\tremaining: 840ms\n779:\tlearn: 0.0889970\ttotal: 2.96s\tremaining: 836ms\n780:\tlearn: 0.0889342\ttotal: 2.97s\tremaining: 832ms\n781:\tlearn: 0.0887904\ttotal: 2.97s\tremaining: 828ms\n782:\tlearn: 0.0886588\ttotal: 2.97s\tremaining: 824ms\n783:\tlearn: 0.0886138\ttotal: 2.98s\tremaining: 820ms\n784:\tlearn: 0.0884880\ttotal: 2.98s\tremaining: 816ms\n785:\tlearn: 0.0884526\ttotal: 2.98s\tremaining: 812ms\n786:\tlearn: 0.0883826\ttotal: 2.98s\tremaining: 808ms\n787:\tlearn: 0.0883099\ttotal: 2.99s\tremaining: 804ms\n788:\tlearn: 0.0881146\ttotal: 2.99s\tremaining: 800ms\n789:\tlearn: 0.0880367\ttotal: 3s\tremaining: 797ms\n790:\tlearn: 0.0878827\ttotal: 3s\tremaining: 792ms\n791:\tlearn: 0.0878454\ttotal: 3s\tremaining: 789ms\n792:\tlearn: 0.0877701\ttotal: 3s\tremaining: 785ms\n793:\tlearn: 0.0876489\ttotal: 3.01s\tremaining: 781ms\n794:\tlearn: 0.0875814\ttotal: 3.01s\tremaining: 777ms\n795:\tlearn: 0.0874320\ttotal: 3.01s\tremaining: 772ms\n796:\tlearn: 0.0873331\ttotal: 3.02s\tremaining: 769ms\n797:\tlearn: 0.0872365\ttotal: 3.02s\tremaining: 764ms\n798:\tlearn: 0.0871444\ttotal: 3.02s\tremaining: 760ms\n799:\tlearn: 0.0870963\ttotal: 3.03s\tremaining: 757ms\n800:\tlearn: 0.0869118\ttotal: 3.03s\tremaining: 752ms\n801:\tlearn: 0.0867958\ttotal: 3.03s\tremaining: 749ms\n802:\tlearn: 0.0866864\ttotal: 3.04s\tremaining: 745ms\n803:\tlearn: 0.0865971\ttotal: 3.04s\tremaining: 741ms\n804:\tlearn: 0.0865291\ttotal: 3.04s\tremaining: 737ms\n805:\tlearn: 0.0864132\ttotal: 3.04s\tremaining: 733ms\n806:\tlearn: 0.0863071\ttotal: 3.05s\tremaining: 729ms\n807:\tlearn: 0.0861833\ttotal: 3.06s\tremaining: 726ms\n808:\tlearn: 0.0860724\ttotal: 3.06s\tremaining: 724ms\n809:\tlearn: 0.0859596\ttotal: 3.07s\tremaining: 720ms\n810:\tlearn: 0.0858204\ttotal: 3.07s\tremaining: 716ms\n811:\tlearn: 0.0857447\ttotal: 3.08s\tremaining: 712ms\n812:\tlearn: 0.0856371\ttotal: 3.08s\tremaining: 708ms\n813:\tlearn: 0.0855635\ttotal: 3.08s\tremaining: 704ms\n814:\tlearn: 0.0855289\ttotal: 3.09s\tremaining: 701ms\n815:\tlearn: 0.0854532\ttotal: 3.09s\tremaining: 697ms\n816:\tlearn: 0.0853457\ttotal: 3.1s\tremaining: 693ms\n817:\tlearn: 0.0852630\ttotal: 3.1s\tremaining: 690ms\n818:\tlearn: 0.0851517\ttotal: 3.11s\tremaining: 687ms\n819:\tlearn: 0.0850668\ttotal: 3.11s\tremaining: 683ms\n820:\tlearn: 0.0849466\ttotal: 3.11s\tremaining: 679ms\n821:\tlearn: 0.0849251\ttotal: 3.12s\tremaining: 675ms\n822:\tlearn: 0.0848704\ttotal: 3.12s\tremaining: 671ms\n823:\tlearn: 0.0848220\ttotal: 3.12s\tremaining: 667ms\n824:\tlearn: 0.0847222\ttotal: 3.13s\tremaining: 663ms\n825:\tlearn: 0.0846306\ttotal: 3.13s\tremaining: 659ms\n826:\tlearn: 0.0845597\ttotal: 3.13s\tremaining: 656ms\n827:\tlearn: 0.0844555\ttotal: 3.14s\tremaining: 652ms\n828:\tlearn: 0.0843557\ttotal: 3.14s\tremaining: 648ms\n829:\tlearn: 0.0843256\ttotal: 3.14s\tremaining: 644ms\n830:\tlearn: 0.0841441\ttotal: 3.15s\tremaining: 640ms\n831:\tlearn: 0.0839949\ttotal: 3.15s\tremaining: 636ms\n832:\tlearn: 0.0838436\ttotal: 3.15s\tremaining: 632ms\n833:\tlearn: 0.0837308\ttotal: 3.15s\tremaining: 628ms\n834:\tlearn: 0.0836147\ttotal: 3.16s\tremaining: 624ms\n835:\tlearn: 0.0835147\ttotal: 3.16s\tremaining: 620ms\n836:\tlearn: 0.0834336\ttotal: 3.16s\tremaining: 616ms\n837:\tlearn: 0.0833480\ttotal: 3.17s\tremaining: 612ms\n838:\tlearn: 0.0832780\ttotal: 3.17s\tremaining: 609ms\n839:\tlearn: 0.0831796\ttotal: 3.17s\tremaining: 605ms\n840:\tlearn: 0.0830726\ttotal: 3.18s\tremaining: 601ms\n841:\tlearn: 0.0829739\ttotal: 3.18s\tremaining: 597ms\n842:\tlearn: 0.0828097\ttotal: 3.18s\tremaining: 593ms\n843:\tlearn: 0.0827288\ttotal: 3.19s\tremaining: 589ms\n844:\tlearn: 0.0826377\ttotal: 3.19s\tremaining: 585ms\n845:\tlearn: 0.0824794\ttotal: 3.19s\tremaining: 581ms\n846:\tlearn: 0.0824279\ttotal: 3.19s\tremaining: 577ms\n847:\tlearn: 0.0823208\ttotal: 3.2s\tremaining: 573ms\n848:\tlearn: 0.0822903\ttotal: 3.2s\tremaining: 569ms\n849:\tlearn: 0.0822158\ttotal: 3.2s\tremaining: 565ms\n850:\tlearn: 0.0821446\ttotal: 3.21s\tremaining: 561ms\n851:\tlearn: 0.0820607\ttotal: 3.21s\tremaining: 558ms\n852:\tlearn: 0.0819636\ttotal: 3.21s\tremaining: 554ms\n853:\tlearn: 0.0819235\ttotal: 3.21s\tremaining: 550ms\n854:\tlearn: 0.0818986\ttotal: 3.22s\tremaining: 546ms\n855:\tlearn: 0.0818327\ttotal: 3.22s\tremaining: 542ms\n856:\tlearn: 0.0817310\ttotal: 3.23s\tremaining: 538ms\n857:\tlearn: 0.0816307\ttotal: 3.23s\tremaining: 535ms\n858:\tlearn: 0.0815812\ttotal: 3.23s\tremaining: 531ms\n859:\tlearn: 0.0815402\ttotal: 3.24s\tremaining: 527ms\n860:\tlearn: 0.0814721\ttotal: 3.24s\tremaining: 523ms\n861:\tlearn: 0.0813724\ttotal: 3.25s\tremaining: 520ms\n862:\tlearn: 0.0812437\ttotal: 3.25s\tremaining: 517ms\n863:\tlearn: 0.0811463\ttotal: 3.26s\tremaining: 513ms\n864:\tlearn: 0.0810967\ttotal: 3.26s\tremaining: 509ms\n865:\tlearn: 0.0809777\ttotal: 3.27s\tremaining: 505ms\n866:\tlearn: 0.0809117\ttotal: 3.27s\tremaining: 502ms\n867:\tlearn: 0.0808499\ttotal: 3.28s\tremaining: 498ms\n868:\tlearn: 0.0807251\ttotal: 3.28s\tremaining: 495ms\n869:\tlearn: 0.0806674\ttotal: 3.29s\tremaining: 491ms\n870:\tlearn: 0.0805114\ttotal: 3.29s\tremaining: 487ms\n871:\tlearn: 0.0804323\ttotal: 3.29s\tremaining: 483ms\n872:\tlearn: 0.0803683\ttotal: 3.3s\tremaining: 480ms\n873:\tlearn: 0.0803293\ttotal: 3.31s\tremaining: 476ms\n874:\tlearn: 0.0802663\ttotal: 3.31s\tremaining: 472ms\n875:\tlearn: 0.0801151\ttotal: 3.31s\tremaining: 469ms\n876:\tlearn: 0.0800582\ttotal: 3.31s\tremaining: 465ms\n877:\tlearn: 0.0799660\ttotal: 3.32s\tremaining: 461ms\n878:\tlearn: 0.0798947\ttotal: 3.32s\tremaining: 457ms\n879:\tlearn: 0.0797856\ttotal: 3.33s\tremaining: 453ms\n880:\tlearn: 0.0796874\ttotal: 3.33s\tremaining: 450ms\n881:\tlearn: 0.0796638\ttotal: 3.33s\tremaining: 446ms\n882:\tlearn: 0.0796257\ttotal: 3.33s\tremaining: 442ms\n883:\tlearn: 0.0795299\ttotal: 3.34s\tremaining: 438ms\n884:\tlearn: 0.0794968\ttotal: 3.34s\tremaining: 434ms\n885:\tlearn: 0.0794005\ttotal: 3.34s\tremaining: 430ms\n886:\tlearn: 0.0792539\ttotal: 3.35s\tremaining: 426ms\n887:\tlearn: 0.0792160\ttotal: 3.35s\tremaining: 422ms\n888:\tlearn: 0.0791163\ttotal: 3.35s\tremaining: 418ms\n889:\tlearn: 0.0790353\ttotal: 3.35s\tremaining: 415ms\n890:\tlearn: 0.0789382\ttotal: 3.36s\tremaining: 411ms\n891:\tlearn: 0.0788441\ttotal: 3.36s\tremaining: 407ms\n892:\tlearn: 0.0787548\ttotal: 3.36s\tremaining: 403ms\n893:\tlearn: 0.0786775\ttotal: 3.37s\tremaining: 399ms\n894:\tlearn: 0.0785742\ttotal: 3.37s\tremaining: 395ms\n895:\tlearn: 0.0784670\ttotal: 3.37s\tremaining: 392ms\n896:\tlearn: 0.0783567\ttotal: 3.38s\tremaining: 388ms\n897:\tlearn: 0.0782804\ttotal: 3.38s\tremaining: 384ms\n898:\tlearn: 0.0782446\ttotal: 3.38s\tremaining: 380ms\n899:\tlearn: 0.0781968\ttotal: 3.39s\tremaining: 376ms\n900:\tlearn: 0.0780907\ttotal: 3.39s\tremaining: 373ms\n901:\tlearn: 0.0779978\ttotal: 3.39s\tremaining: 369ms\n902:\tlearn: 0.0779253\ttotal: 3.4s\tremaining: 365ms\n903:\tlearn: 0.0778921\ttotal: 3.4s\tremaining: 361ms\n904:\tlearn: 0.0777868\ttotal: 3.4s\tremaining: 357ms\n905:\tlearn: 0.0777416\ttotal: 3.41s\tremaining: 353ms\n906:\tlearn: 0.0776658\ttotal: 3.41s\tremaining: 350ms\n907:\tlearn: 0.0775568\ttotal: 3.41s\tremaining: 346ms\n908:\tlearn: 0.0774406\ttotal: 3.42s\tremaining: 342ms\n909:\tlearn: 0.0773237\ttotal: 3.42s\tremaining: 338ms\n910:\tlearn: 0.0772092\ttotal: 3.42s\tremaining: 334ms\n911:\tlearn: 0.0771717\ttotal: 3.43s\tremaining: 331ms\n912:\tlearn: 0.0770871\ttotal: 3.43s\tremaining: 327ms\n913:\tlearn: 0.0770547\ttotal: 3.44s\tremaining: 324ms\n914:\tlearn: 0.0770189\ttotal: 3.44s\tremaining: 320ms\n915:\tlearn: 0.0769119\ttotal: 3.45s\tremaining: 316ms\n916:\tlearn: 0.0768589\ttotal: 3.45s\tremaining: 313ms\n917:\tlearn: 0.0768326\ttotal: 3.46s\tremaining: 309ms\n918:\tlearn: 0.0767447\ttotal: 3.46s\tremaining: 305ms\n919:\tlearn: 0.0766321\ttotal: 3.46s\tremaining: 301ms\n920:\tlearn: 0.0765311\ttotal: 3.47s\tremaining: 297ms\n921:\tlearn: 0.0764872\ttotal: 3.47s\tremaining: 294ms\n922:\tlearn: 0.0764599\ttotal: 3.48s\tremaining: 290ms\n923:\tlearn: 0.0763785\ttotal: 3.48s\tremaining: 286ms\n924:\tlearn: 0.0763508\ttotal: 3.48s\tremaining: 282ms\n925:\tlearn: 0.0762633\ttotal: 3.49s\tremaining: 279ms\n926:\tlearn: 0.0762333\ttotal: 3.49s\tremaining: 275ms\n927:\tlearn: 0.0761438\ttotal: 3.5s\tremaining: 271ms\n928:\tlearn: 0.0760744\ttotal: 3.5s\tremaining: 268ms\n929:\tlearn: 0.0759561\ttotal: 3.5s\tremaining: 264ms\n930:\tlearn: 0.0759294\ttotal: 3.51s\tremaining: 260ms\n931:\tlearn: 0.0758566\ttotal: 3.51s\tremaining: 256ms\n932:\tlearn: 0.0757467\ttotal: 3.52s\tremaining: 252ms\n933:\tlearn: 0.0756956\ttotal: 3.52s\tremaining: 249ms\n934:\tlearn: 0.0756737\ttotal: 3.52s\tremaining: 245ms\n935:\tlearn: 0.0755659\ttotal: 3.53s\tremaining: 241ms\n936:\tlearn: 0.0754873\ttotal: 3.53s\tremaining: 237ms\n937:\tlearn: 0.0754059\ttotal: 3.53s\tremaining: 234ms\n938:\tlearn: 0.0753378\ttotal: 3.54s\tremaining: 230ms\n939:\tlearn: 0.0752824\ttotal: 3.54s\tremaining: 226ms\n940:\tlearn: 0.0751973\ttotal: 3.54s\tremaining: 222ms\n941:\tlearn: 0.0750949\ttotal: 3.55s\tremaining: 218ms\n942:\tlearn: 0.0750549\ttotal: 3.55s\tremaining: 215ms\n943:\tlearn: 0.0750210\ttotal: 3.55s\tremaining: 211ms\n944:\tlearn: 0.0749951\ttotal: 3.56s\tremaining: 207ms\n945:\tlearn: 0.0749764\ttotal: 3.56s\tremaining: 203ms\n946:\tlearn: 0.0748601\ttotal: 3.56s\tremaining: 199ms\n947:\tlearn: 0.0748290\ttotal: 3.56s\tremaining: 196ms\n948:\tlearn: 0.0747617\ttotal: 3.57s\tremaining: 192ms\n949:\tlearn: 0.0746932\ttotal: 3.57s\tremaining: 188ms\n950:\tlearn: 0.0745975\ttotal: 3.57s\tremaining: 184ms\n951:\tlearn: 0.0745646\ttotal: 3.58s\tremaining: 180ms\n952:\tlearn: 0.0745280\ttotal: 3.58s\tremaining: 177ms\n953:\tlearn: 0.0745075\ttotal: 3.58s\tremaining: 173ms\n954:\tlearn: 0.0744743\ttotal: 3.59s\tremaining: 169ms\n955:\tlearn: 0.0744418\ttotal: 3.59s\tremaining: 165ms\n956:\tlearn: 0.0744190\ttotal: 3.59s\tremaining: 161ms\n957:\tlearn: 0.0743387\ttotal: 3.6s\tremaining: 158ms\n958:\tlearn: 0.0742354\ttotal: 3.6s\tremaining: 154ms\n959:\tlearn: 0.0742156\ttotal: 3.6s\tremaining: 150ms\n960:\tlearn: 0.0741679\ttotal: 3.61s\tremaining: 146ms\n961:\tlearn: 0.0740935\ttotal: 3.61s\tremaining: 143ms\n962:\tlearn: 0.0739913\ttotal: 3.61s\tremaining: 139ms\n963:\tlearn: 0.0739191\ttotal: 3.62s\tremaining: 135ms\n964:\tlearn: 0.0738893\ttotal: 3.62s\tremaining: 131ms\n965:\tlearn: 0.0738201\ttotal: 3.62s\tremaining: 127ms\n966:\tlearn: 0.0737401\ttotal: 3.63s\tremaining: 124ms\n967:\tlearn: 0.0736934\ttotal: 3.63s\tremaining: 120ms\n968:\tlearn: 0.0736696\ttotal: 3.63s\tremaining: 116ms\n969:\tlearn: 0.0736265\ttotal: 3.64s\tremaining: 113ms\n970:\tlearn: 0.0735648\ttotal: 3.64s\tremaining: 109ms\n971:\tlearn: 0.0735319\ttotal: 3.65s\tremaining: 105ms\n972:\tlearn: 0.0734297\ttotal: 3.65s\tremaining: 101ms\n973:\tlearn: 0.0733180\ttotal: 3.65s\tremaining: 97.5ms\n974:\tlearn: 0.0732315\ttotal: 3.66s\tremaining: 93.8ms\n975:\tlearn: 0.0731635\ttotal: 3.66s\tremaining: 90ms\n976:\tlearn: 0.0731389\ttotal: 3.66s\tremaining: 86.3ms\n977:\tlearn: 0.0730810\ttotal: 3.67s\tremaining: 82.5ms\n978:\tlearn: 0.0729900\ttotal: 3.67s\tremaining: 78.8ms\n979:\tlearn: 0.0729065\ttotal: 3.68s\tremaining: 75.1ms\n980:\tlearn: 0.0728203\ttotal: 3.68s\tremaining: 71.3ms\n981:\tlearn: 0.0727642\ttotal: 3.69s\tremaining: 67.7ms\n982:\tlearn: 0.0727289\ttotal: 3.69s\tremaining: 63.9ms\n983:\tlearn: 0.0726303\ttotal: 3.7s\tremaining: 60.1ms\n984:\tlearn: 0.0725116\ttotal: 3.7s\tremaining: 56.4ms\n985:\tlearn: 0.0724449\ttotal: 3.7s\tremaining: 52.6ms\n986:\tlearn: 0.0723667\ttotal: 3.71s\tremaining: 48.9ms\n987:\tlearn: 0.0723135\ttotal: 3.71s\tremaining: 45.1ms\n988:\tlearn: 0.0722453\ttotal: 3.72s\tremaining: 41.4ms\n989:\tlearn: 0.0721492\ttotal: 3.72s\tremaining: 37.6ms\n990:\tlearn: 0.0720840\ttotal: 3.73s\tremaining: 33.8ms\n991:\tlearn: 0.0720210\ttotal: 3.73s\tremaining: 30.1ms\n992:\tlearn: 0.0719905\ttotal: 3.73s\tremaining: 26.3ms\n993:\tlearn: 0.0719752\ttotal: 3.73s\tremaining: 22.5ms\n994:\tlearn: 0.0719083\ttotal: 3.74s\tremaining: 18.8ms\n995:\tlearn: 0.0718250\ttotal: 3.74s\tremaining: 15ms\n996:\tlearn: 0.0717345\ttotal: 3.74s\tremaining: 11.3ms\n997:\tlearn: 0.0716672\ttotal: 3.75s\tremaining: 7.51ms\n998:\tlearn: 0.0716427\ttotal: 3.75s\tremaining: 3.75ms\n999:\tlearn: 0.0715567\ttotal: 3.76s\tremaining: 0us\n"
    },
    {
     "output_type": "execute_result",
     "data": {
      "text/plain": "Pipeline(memory=None,\n         steps=[('over',\n                 SMOTE(k_neighbors=5, n_jobs=None, random_state=None,\n                       sampling_strategy='auto')),\n                ('model',\n                 <catboost.core.CatBoostClassifier object at 0x7f6a68bcf5b0>)],\n         verbose=False)"
     },
     "metadata": {},
     "execution_count": 14
    }
   ],
   "source": [
    "pipeline.fit(X, y)"
   ]
  },
  {
   "cell_type": "code",
   "execution_count": 15,
   "metadata": {},
   "outputs": [],
   "source": [
    "modelo = pipeline['model']"
   ]
  },
  {
   "cell_type": "code",
   "execution_count": 16,
   "metadata": {},
   "outputs": [
    {
     "output_type": "execute_result",
     "data": {
      "text/plain": "<catboost.core.CatBoostClassifier at 0x7f6a68bcf5b0>"
     },
     "metadata": {},
     "execution_count": 16
    }
   ],
   "source": [
    "modelo"
   ]
  },
  {
   "cell_type": "code",
   "execution_count": 17,
   "metadata": {},
   "outputs": [],
   "source": [
    "df_test = pd.read_csv('/home/matheus/Documentos/house-recommendation/data/test.csv', delimiter = ';')"
   ]
  },
  {
   "cell_type": "code",
   "execution_count": 18,
   "metadata": {},
   "outputs": [],
   "source": [
    "df_test.drop(['Id', 'y'], axis = 1, inplace = True)"
   ]
  },
  {
   "cell_type": "code",
   "execution_count": 19,
   "metadata": {},
   "outputs": [
    {
     "output_type": "execute_result",
     "data": {
      "text/plain": "   area  quartos  garagem  banheiros    bairro   preco\n0   240        3        4          2  Planalto  370000",
      "text/html": "<div>\n<style scoped>\n    .dataframe tbody tr th:only-of-type {\n        vertical-align: middle;\n    }\n\n    .dataframe tbody tr th {\n        vertical-align: top;\n    }\n\n    .dataframe thead th {\n        text-align: right;\n    }\n</style>\n<table border=\"1\" class=\"dataframe\">\n  <thead>\n    <tr style=\"text-align: right;\">\n      <th></th>\n      <th>area</th>\n      <th>quartos</th>\n      <th>garagem</th>\n      <th>banheiros</th>\n      <th>bairro</th>\n      <th>preco</th>\n    </tr>\n  </thead>\n  <tbody>\n    <tr>\n      <th>0</th>\n      <td>240</td>\n      <td>3</td>\n      <td>4</td>\n      <td>2</td>\n      <td>Planalto</td>\n      <td>370000</td>\n    </tr>\n  </tbody>\n</table>\n</div>"
     },
     "metadata": {},
     "execution_count": 19
    }
   ],
   "source": [
    "df_test.head(1)"
   ]
  },
  {
   "cell_type": "code",
   "execution_count": 20,
   "metadata": {},
   "outputs": [
    {
     "output_type": "execute_result",
     "data": {
      "text/plain": "area          int64\nquartos       int64\ngaragem       int64\nbanheiros     int64\nbairro       object\npreco         int64\ndtype: object"
     },
     "metadata": {},
     "execution_count": 20
    }
   ],
   "source": [
    "df_test.dtypes"
   ]
  },
  {
   "cell_type": "code",
   "execution_count": 21,
   "metadata": {},
   "outputs": [],
   "source": [
    "numeric = df_test.select_dtypes(include='int64').columns.tolist()\n",
    "cat = df_test.select_dtypes(exclude='int64').columns.tolist()"
   ]
  },
  {
   "cell_type": "code",
   "execution_count": 22,
   "metadata": {},
   "outputs": [
    {
     "output_type": "execute_result",
     "data": {
      "text/plain": "   area  quartos  garagem  banheiros         bairro   preco\n0   240        3        4          2       Planalto  370000\n1    68        2        1          2   Dona Zulmira  160000\n2    56        2        1          1   Santa Monica  165000\n3    44        2        1          1  Shopping Park  120000\n4   102        3        2          2   Santa Monica  455000",
      "text/html": "<div>\n<style scoped>\n    .dataframe tbody tr th:only-of-type {\n        vertical-align: middle;\n    }\n\n    .dataframe tbody tr th {\n        vertical-align: top;\n    }\n\n    .dataframe thead th {\n        text-align: right;\n    }\n</style>\n<table border=\"1\" class=\"dataframe\">\n  <thead>\n    <tr style=\"text-align: right;\">\n      <th></th>\n      <th>area</th>\n      <th>quartos</th>\n      <th>garagem</th>\n      <th>banheiros</th>\n      <th>bairro</th>\n      <th>preco</th>\n    </tr>\n  </thead>\n  <tbody>\n    <tr>\n      <th>0</th>\n      <td>240</td>\n      <td>3</td>\n      <td>4</td>\n      <td>2</td>\n      <td>Planalto</td>\n      <td>370000</td>\n    </tr>\n    <tr>\n      <th>1</th>\n      <td>68</td>\n      <td>2</td>\n      <td>1</td>\n      <td>2</td>\n      <td>Dona Zulmira</td>\n      <td>160000</td>\n    </tr>\n    <tr>\n      <th>2</th>\n      <td>56</td>\n      <td>2</td>\n      <td>1</td>\n      <td>1</td>\n      <td>Santa Monica</td>\n      <td>165000</td>\n    </tr>\n    <tr>\n      <th>3</th>\n      <td>44</td>\n      <td>2</td>\n      <td>1</td>\n      <td>1</td>\n      <td>Shopping Park</td>\n      <td>120000</td>\n    </tr>\n    <tr>\n      <th>4</th>\n      <td>102</td>\n      <td>3</td>\n      <td>2</td>\n      <td>2</td>\n      <td>Santa Monica</td>\n      <td>455000</td>\n    </tr>\n  </tbody>\n</table>\n</div>"
     },
     "metadata": {},
     "execution_count": 22
    }
   ],
   "source": [
    "df_test.head()"
   ]
  },
  {
   "cell_type": "code",
   "execution_count": 23,
   "metadata": {},
   "outputs": [],
   "source": [
    "df_test[numeric] = scaler.transform(df_test[numeric])"
   ]
  },
  {
   "cell_type": "code",
   "execution_count": 24,
   "metadata": {},
   "outputs": [],
   "source": [
    "df_test[cat] = catb.transform(df_test[cat])"
   ]
  },
  {
   "cell_type": "code",
   "execution_count": 25,
   "metadata": {},
   "outputs": [
    {
     "output_type": "execute_result",
     "data": {
      "text/plain": "         area   quartos   garagem  banheiros    bairro     preco\n0    0.458221  0.299322  1.700116  -0.105917  0.514236 -0.070601\n1   -0.531542 -0.837344 -0.768790  -0.105917  0.056944 -0.696467\n2   -0.600595 -0.837344 -0.768790  -1.047397  0.373792 -0.681565\n3   -0.669648 -0.837344 -0.768790  -1.047397  0.005511 -0.815679\n4   -0.335891  0.299322  0.054179  -0.105917  0.373792  0.182726\n..        ...       ...       ...        ...       ...       ...\n588 -0.600595 -0.837344 -0.768790  -0.105917  0.198611 -0.578744\n589  1.148752  0.299322 -0.768790   0.835564  0.361806 -0.160010\n590 -0.635121 -0.837344 -0.768790  -1.047397  0.166987 -0.770975\n591 -0.531542 -0.837344  0.054179  -0.105917  0.030811 -0.398435\n592 -0.439471  0.299322  0.054179  -0.105917  0.006327 -0.279223\n\n[593 rows x 6 columns]",
      "text/html": "<div>\n<style scoped>\n    .dataframe tbody tr th:only-of-type {\n        vertical-align: middle;\n    }\n\n    .dataframe tbody tr th {\n        vertical-align: top;\n    }\n\n    .dataframe thead th {\n        text-align: right;\n    }\n</style>\n<table border=\"1\" class=\"dataframe\">\n  <thead>\n    <tr style=\"text-align: right;\">\n      <th></th>\n      <th>area</th>\n      <th>quartos</th>\n      <th>garagem</th>\n      <th>banheiros</th>\n      <th>bairro</th>\n      <th>preco</th>\n    </tr>\n  </thead>\n  <tbody>\n    <tr>\n      <th>0</th>\n      <td>0.458221</td>\n      <td>0.299322</td>\n      <td>1.700116</td>\n      <td>-0.105917</td>\n      <td>0.514236</td>\n      <td>-0.070601</td>\n    </tr>\n    <tr>\n      <th>1</th>\n      <td>-0.531542</td>\n      <td>-0.837344</td>\n      <td>-0.768790</td>\n      <td>-0.105917</td>\n      <td>0.056944</td>\n      <td>-0.696467</td>\n    </tr>\n    <tr>\n      <th>2</th>\n      <td>-0.600595</td>\n      <td>-0.837344</td>\n      <td>-0.768790</td>\n      <td>-1.047397</td>\n      <td>0.373792</td>\n      <td>-0.681565</td>\n    </tr>\n    <tr>\n      <th>3</th>\n      <td>-0.669648</td>\n      <td>-0.837344</td>\n      <td>-0.768790</td>\n      <td>-1.047397</td>\n      <td>0.005511</td>\n      <td>-0.815679</td>\n    </tr>\n    <tr>\n      <th>4</th>\n      <td>-0.335891</td>\n      <td>0.299322</td>\n      <td>0.054179</td>\n      <td>-0.105917</td>\n      <td>0.373792</td>\n      <td>0.182726</td>\n    </tr>\n    <tr>\n      <th>...</th>\n      <td>...</td>\n      <td>...</td>\n      <td>...</td>\n      <td>...</td>\n      <td>...</td>\n      <td>...</td>\n    </tr>\n    <tr>\n      <th>588</th>\n      <td>-0.600595</td>\n      <td>-0.837344</td>\n      <td>-0.768790</td>\n      <td>-0.105917</td>\n      <td>0.198611</td>\n      <td>-0.578744</td>\n    </tr>\n    <tr>\n      <th>589</th>\n      <td>1.148752</td>\n      <td>0.299322</td>\n      <td>-0.768790</td>\n      <td>0.835564</td>\n      <td>0.361806</td>\n      <td>-0.160010</td>\n    </tr>\n    <tr>\n      <th>590</th>\n      <td>-0.635121</td>\n      <td>-0.837344</td>\n      <td>-0.768790</td>\n      <td>-1.047397</td>\n      <td>0.166987</td>\n      <td>-0.770975</td>\n    </tr>\n    <tr>\n      <th>591</th>\n      <td>-0.531542</td>\n      <td>-0.837344</td>\n      <td>0.054179</td>\n      <td>-0.105917</td>\n      <td>0.030811</td>\n      <td>-0.398435</td>\n    </tr>\n    <tr>\n      <th>592</th>\n      <td>-0.439471</td>\n      <td>0.299322</td>\n      <td>0.054179</td>\n      <td>-0.105917</td>\n      <td>0.006327</td>\n      <td>-0.279223</td>\n    </tr>\n  </tbody>\n</table>\n<p>593 rows × 6 columns</p>\n</div>"
     },
     "metadata": {},
     "execution_count": 25
    }
   ],
   "source": [
    "df_test"
   ]
  },
  {
   "cell_type": "code",
   "execution_count": 26,
   "metadata": {},
   "outputs": [],
   "source": [
    "y_pred_test = modelo.predict(df_test)"
   ]
  },
  {
   "cell_type": "code",
   "execution_count": 27,
   "metadata": {},
   "outputs": [],
   "source": [
    "df_test = pd.read_csv('/home/matheus/Documentos/house-recommendation/data/test.csv', delimiter = ';')"
   ]
  },
  {
   "cell_type": "code",
   "execution_count": 28,
   "metadata": {},
   "outputs": [
    {
     "output_type": "execute_result",
     "data": {
      "text/plain": "0.8981947697111632"
     },
     "metadata": {},
     "execution_count": 28
    }
   ],
   "source": [
    "y_true = df_test['y']\n",
    "roc_auc_score(y_true, y_pred_test)"
   ]
  },
  {
   "cell_type": "code",
   "execution_count": 29,
   "metadata": {},
   "outputs": [],
   "source": [
    "df_test['preds'] = y_pred_test"
   ]
  },
  {
   "cell_type": "code",
   "execution_count": 30,
   "metadata": {},
   "outputs": [
    {
     "output_type": "execute_result",
     "data": {
      "text/plain": "       Id  area  quartos  garagem  banheiros           bairro   preco  y  \\\n0    1496   240        3        4          2         Planalto  370000  0   \n1     267    68        2        1          2     Dona Zulmira  160000  0   \n2    1672    56        2        1          1     Santa Monica  165000  1   \n3     546    44        2        1          1    Shopping Park  120000  0   \n4    1539   102        3        2          2     Santa Monica  455000  0   \n..    ...   ...      ...      ...        ...              ...     ... ..   \n588  1693    56        2        1          2           Tibery  199500  0   \n589    25   360        3        1          3   Daniel Fonseca  340000  0   \n590   521    50        2        1          1  Jardim Brasilia  135000  0   \n591  1417    68        2        2          2           Brasil  260000  0   \n592   336    84        3        2          2   Jardim Finotti  300000  0   \n\n     preds  \n0        0  \n1        0  \n2        1  \n3        0  \n4        0  \n..     ...  \n588      1  \n589      0  \n590      0  \n591      0  \n592      0  \n\n[593 rows x 9 columns]",
      "text/html": "<div>\n<style scoped>\n    .dataframe tbody tr th:only-of-type {\n        vertical-align: middle;\n    }\n\n    .dataframe tbody tr th {\n        vertical-align: top;\n    }\n\n    .dataframe thead th {\n        text-align: right;\n    }\n</style>\n<table border=\"1\" class=\"dataframe\">\n  <thead>\n    <tr style=\"text-align: right;\">\n      <th></th>\n      <th>Id</th>\n      <th>area</th>\n      <th>quartos</th>\n      <th>garagem</th>\n      <th>banheiros</th>\n      <th>bairro</th>\n      <th>preco</th>\n      <th>y</th>\n      <th>preds</th>\n    </tr>\n  </thead>\n  <tbody>\n    <tr>\n      <th>0</th>\n      <td>1496</td>\n      <td>240</td>\n      <td>3</td>\n      <td>4</td>\n      <td>2</td>\n      <td>Planalto</td>\n      <td>370000</td>\n      <td>0</td>\n      <td>0</td>\n    </tr>\n    <tr>\n      <th>1</th>\n      <td>267</td>\n      <td>68</td>\n      <td>2</td>\n      <td>1</td>\n      <td>2</td>\n      <td>Dona Zulmira</td>\n      <td>160000</td>\n      <td>0</td>\n      <td>0</td>\n    </tr>\n    <tr>\n      <th>2</th>\n      <td>1672</td>\n      <td>56</td>\n      <td>2</td>\n      <td>1</td>\n      <td>1</td>\n      <td>Santa Monica</td>\n      <td>165000</td>\n      <td>1</td>\n      <td>1</td>\n    </tr>\n    <tr>\n      <th>3</th>\n      <td>546</td>\n      <td>44</td>\n      <td>2</td>\n      <td>1</td>\n      <td>1</td>\n      <td>Shopping Park</td>\n      <td>120000</td>\n      <td>0</td>\n      <td>0</td>\n    </tr>\n    <tr>\n      <th>4</th>\n      <td>1539</td>\n      <td>102</td>\n      <td>3</td>\n      <td>2</td>\n      <td>2</td>\n      <td>Santa Monica</td>\n      <td>455000</td>\n      <td>0</td>\n      <td>0</td>\n    </tr>\n    <tr>\n      <th>...</th>\n      <td>...</td>\n      <td>...</td>\n      <td>...</td>\n      <td>...</td>\n      <td>...</td>\n      <td>...</td>\n      <td>...</td>\n      <td>...</td>\n      <td>...</td>\n    </tr>\n    <tr>\n      <th>588</th>\n      <td>1693</td>\n      <td>56</td>\n      <td>2</td>\n      <td>1</td>\n      <td>2</td>\n      <td>Tibery</td>\n      <td>199500</td>\n      <td>0</td>\n      <td>1</td>\n    </tr>\n    <tr>\n      <th>589</th>\n      <td>25</td>\n      <td>360</td>\n      <td>3</td>\n      <td>1</td>\n      <td>3</td>\n      <td>Daniel Fonseca</td>\n      <td>340000</td>\n      <td>0</td>\n      <td>0</td>\n    </tr>\n    <tr>\n      <th>590</th>\n      <td>521</td>\n      <td>50</td>\n      <td>2</td>\n      <td>1</td>\n      <td>1</td>\n      <td>Jardim Brasilia</td>\n      <td>135000</td>\n      <td>0</td>\n      <td>0</td>\n    </tr>\n    <tr>\n      <th>591</th>\n      <td>1417</td>\n      <td>68</td>\n      <td>2</td>\n      <td>2</td>\n      <td>2</td>\n      <td>Brasil</td>\n      <td>260000</td>\n      <td>0</td>\n      <td>0</td>\n    </tr>\n    <tr>\n      <th>592</th>\n      <td>336</td>\n      <td>84</td>\n      <td>3</td>\n      <td>2</td>\n      <td>2</td>\n      <td>Jardim Finotti</td>\n      <td>300000</td>\n      <td>0</td>\n      <td>0</td>\n    </tr>\n  </tbody>\n</table>\n<p>593 rows × 9 columns</p>\n</div>"
     },
     "metadata": {},
     "execution_count": 30
    }
   ],
   "source": [
    "df_test"
   ]
  },
  {
   "cell_type": "code",
   "execution_count": 80,
   "metadata": {},
   "outputs": [],
   "source": [
    "entrada_dados = {\n",
    "    'Id' : 132,\n",
    "    'area' : 56,\n",
    "    'quartos' : 2,\n",
    "    'garagem' : 1,\n",
    "    'banheiros' : 1,\n",
    "    'bairro' : 'PLanalto',\n",
    "    'preco' : 165000\n",
    "}"
   ]
  },
  {
   "cell_type": "code",
   "execution_count": 81,
   "metadata": {},
   "outputs": [],
   "source": [
    "features_names = df_test.drop(['Id', 'y'], axis = 1).columns.tolist()"
   ]
  },
  {
   "cell_type": "code",
   "execution_count": 82,
   "metadata": {},
   "outputs": [],
   "source": [
    "df_2 = pd.DataFrame(index=[0], columns=features_names)\n",
    "df_2 = df_2.fillna(value=0)\n",
    "\n",
    "for i in entrada_dados.items():\n",
    "  df_2[i[0]] = i[1]"
   ]
  },
  {
   "cell_type": "code",
   "execution_count": 83,
   "metadata": {},
   "outputs": [],
   "source": [
    "df_2[cat] = catb.transform(df_2[cat])\n",
    "df_2[numeric] = scaler.transform(df_2[numeric])"
   ]
  },
  {
   "cell_type": "code",
   "execution_count": 84,
   "metadata": {},
   "outputs": [
    {
     "output_type": "execute_result",
     "data": {
      "text/plain": "       area   quartos  garagem  banheiros    bairro     preco  preds   Id\n0 -0.600595 -0.837344 -0.76879  -1.047397  0.170833 -0.681565      0  132",
      "text/html": "<div>\n<style scoped>\n    .dataframe tbody tr th:only-of-type {\n        vertical-align: middle;\n    }\n\n    .dataframe tbody tr th {\n        vertical-align: top;\n    }\n\n    .dataframe thead th {\n        text-align: right;\n    }\n</style>\n<table border=\"1\" class=\"dataframe\">\n  <thead>\n    <tr style=\"text-align: right;\">\n      <th></th>\n      <th>area</th>\n      <th>quartos</th>\n      <th>garagem</th>\n      <th>banheiros</th>\n      <th>bairro</th>\n      <th>preco</th>\n      <th>preds</th>\n      <th>Id</th>\n    </tr>\n  </thead>\n  <tbody>\n    <tr>\n      <th>0</th>\n      <td>-0.600595</td>\n      <td>-0.837344</td>\n      <td>-0.76879</td>\n      <td>-1.047397</td>\n      <td>0.170833</td>\n      <td>-0.681565</td>\n      <td>0</td>\n      <td>132</td>\n    </tr>\n  </tbody>\n</table>\n</div>"
     },
     "metadata": {},
     "execution_count": 84
    }
   ],
   "source": [
    "df_2"
   ]
  },
  {
   "cell_type": "code",
   "execution_count": 85,
   "metadata": {},
   "outputs": [],
   "source": [
    "y_pred_test = modelo.predict(df_2.drop('Id', axis = 1))"
   ]
  },
  {
   "cell_type": "code",
   "execution_count": 86,
   "metadata": {},
   "outputs": [
    {
     "output_type": "execute_result",
     "data": {
      "text/plain": "array([1])"
     },
     "metadata": {},
     "execution_count": 86
    }
   ],
   "source": [
    "y_pred_test"
   ]
  },
  {
   "cell_type": "code",
   "execution_count": null,
   "metadata": {},
   "outputs": [],
   "source": []
  }
 ],
 "metadata": {
  "language_info": {
   "codemirror_mode": {
    "name": "ipython",
    "version": 3
   },
   "file_extension": ".py",
   "mimetype": "text/x-python",
   "name": "python",
   "nbconvert_exporter": "python",
   "pygments_lexer": "ipython3",
   "version": "3.8.3-final"
  },
  "orig_nbformat": 2,
  "kernelspec": {
   "name": "python38364bit7962f163f7d94f2eabab29bf9ea94704",
   "display_name": "Python 3.8.3 64-bit"
  }
 },
 "nbformat": 4,
 "nbformat_minor": 2
}