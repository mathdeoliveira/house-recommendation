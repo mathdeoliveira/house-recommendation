{
 "cells": [
  {
   "cell_type": "code",
   "execution_count": 118,
   "metadata": {},
   "outputs": [],
   "source": [
    "sys.path.insert(0, '/home/matheus/Documentos/house-recommendation/src')\n",
    "import pandas as pd\n",
    "from joblib import load\n",
    "from model_inference import ModelInference\n",
    "from model_training import ModelTraining\n",
    "from experiments import Experiments\n",
    "from data_source import DataSource\n",
    "from metrics import Metrics"
   ]
  },
  {
   "cell_type": "code",
   "execution_count": 2,
   "metadata": {},
   "outputs": [
    {
     "output_type": "stream",
     "name": "stdout",
     "text": "Loading model\nLoading data\nPreprocessing Data\nCreating dataframe for data manipulation\nDroping columns with missing values\nDropping column with id\nCreating list with numeric features\nCreating list with categorical features\nremoving target\n['bairro']\nfeature encoder\nfeature normalization and encoding\nbairro       0\narea         0\nquartos      0\ngaragem      0\nbanheiros    0\npreco        0\ndtype: int64\nPredicting\nEvaluating model in test data\n{'roc_auc_score': 0.8451502732240438, 'average_precision_score': 0.6234080141331406}\nSaving file\n"
    },
    {
     "output_type": "execute_result",
     "data": {
      "text/plain": "array([0, 0, 1, 0, 0, 0, 0, 0, 0, 1, 0, 1, 0, 1, 1, 0, 0, 0, 0, 0, 0, 0,\n       0, 1, 0, 0, 0, 0, 0, 0, 0, 0, 0, 0, 1, 0, 0, 0, 0, 0, 0, 0, 0, 0,\n       1, 0, 0, 0, 0, 0, 0, 0, 0, 0, 0, 0, 0, 0, 0, 0, 0, 0, 0, 0, 0, 0,\n       0, 0, 0, 1, 0, 0, 0, 0, 0, 1, 0, 0, 0, 1, 0, 0, 0, 0, 0, 0, 0, 0,\n       0, 1, 0, 0, 0, 1, 0, 0, 0, 0, 0, 0, 0, 1, 0, 1, 0, 0, 0, 0, 0, 0,\n       0, 0, 0, 0, 0, 1, 0, 1, 0, 0, 0, 0, 0, 0, 0, 1, 0, 0, 0, 0, 1, 0,\n       0, 0, 0, 0, 0, 0, 0, 0, 0, 1, 0, 0, 0, 0, 0, 1, 0, 0, 0, 0, 0, 0,\n       0, 0, 0, 0, 1, 0, 1, 0, 0, 0, 1, 0, 0, 0, 0, 0, 0, 0, 0, 0, 0, 0,\n       1, 1, 0, 0, 0, 0, 0, 1, 0, 0, 1, 0, 0, 0, 1, 0, 0, 0, 0, 0, 0, 0,\n       0, 0, 0, 0, 0, 0, 1, 0, 1, 0, 0, 0, 0, 0, 1, 0, 0, 0, 0, 0, 1, 0,\n       0, 0, 0, 0, 0, 0, 0, 0, 0, 0, 0, 1, 0, 0, 1, 0, 0, 0, 0, 0, 0, 0,\n       1, 0, 1, 0, 0, 0, 1, 1, 0, 0, 1, 0, 0, 0, 0, 1, 0, 0, 0, 0, 0, 1,\n       0, 0, 1, 0, 0, 0, 0, 1, 0, 0, 1, 0, 0, 0, 0, 0, 0, 0, 0, 1, 0, 0,\n       0, 0, 0, 1, 0, 0, 0, 0, 0, 1, 0, 0, 0, 0, 0, 0, 0, 1, 0, 0, 0, 0,\n       0, 0, 1, 0, 0, 0, 0, 1, 0, 0, 1, 0, 0, 1, 0, 0, 0, 0, 0, 0, 0, 0,\n       1, 0, 0, 0, 0, 0, 0, 0, 1, 0, 0, 0, 0, 0, 0, 0, 0, 0, 0, 0, 0, 1,\n       1, 0, 0, 0, 1, 0, 0, 0, 1, 1, 1, 0, 0, 0, 0, 0, 0, 0, 0, 1, 0, 0,\n       0, 1, 0, 0, 0, 0, 0, 0, 0, 1, 0, 0, 0, 0, 0, 0, 0, 0, 0, 0, 0, 0,\n       1, 0, 0, 1, 0, 0, 0, 0, 1, 1, 0, 0, 1, 0, 1, 0, 0, 0, 0, 0, 0, 0,\n       0, 0, 0, 0, 1, 0, 0, 0, 0, 0, 1, 1, 1, 0, 0, 0, 0, 0, 0, 0, 0, 1,\n       1, 0, 0, 0, 0, 0, 0, 0, 0, 0, 0, 1, 0, 0, 0, 0, 0, 0, 1, 1, 0, 1,\n       1, 1, 0, 1, 0, 0, 0, 0, 0, 0, 0, 0, 0, 0, 0, 0, 0, 0, 0, 0, 1, 0,\n       0, 0, 0, 0, 0, 1, 0, 0, 0, 0, 0, 0, 0, 0, 0, 0, 0, 0, 0, 0, 0, 0,\n       0, 0, 0, 0, 0, 0, 0, 0, 0, 0, 0, 0, 1, 0, 1, 0, 1, 1, 0, 0, 0, 0,\n       0, 0, 0, 0, 0, 0, 0, 0, 0, 0, 0, 0, 0, 0, 0, 0, 1, 0, 1, 0, 0, 0,\n       0, 1, 0, 1, 0, 1, 0, 0, 1, 0, 0, 0, 0, 0, 0, 0, 1, 0, 0, 0, 0, 0,\n       0, 0, 0, 0, 0, 1, 0, 0, 0, 0, 0, 0, 0, 0, 0, 0, 1, 0, 0, 0, 0])"
     },
     "metadata": {},
     "execution_count": 2
    }
   ],
   "source": [
    "ModelInference().predict()"
   ]
  },
  {
   "cell_type": "code",
   "execution_count": 2,
   "metadata": {},
   "outputs": [],
   "source": [
    "modelo = load('../output/modelo.pkl')"
   ]
  },
  {
   "cell_type": "code",
   "execution_count": 5,
   "metadata": {},
   "outputs": [
    {
     "output_type": "execute_result",
     "data": {
      "text/plain": "{'model': LGBMClassifier(boosting_type='gbdt', class_weight=None, colsample_bytree=1.0,\n                importance_type='split', learning_rate=0.1, max_depth=-1,\n                min_child_samples=20, min_child_weight=0.001, min_split_gain=0.0,\n                n_estimators=100, n_jobs=-1, num_leaves=31, objective=None,\n                random_state=None, reg_alpha=0.0, reg_lambda=0.0, silent=True,\n                subsample=1.0, subsample_for_bin=200000, subsample_freq=0),\n 'preprocessing': <preprocessing.PreProcessing at 0x7f120fe91880>,\n 'columns': ['area', 'quartos', 'garagem', 'banheiros', 'preco', 'bairro']}"
     },
     "metadata": {},
     "execution_count": 5
    }
   ],
   "source": [
    "modelo"
   ]
  },
  {
   "cell_type": "code",
   "execution_count": 6,
   "metadata": {},
   "outputs": [],
   "source": [
    "encoder = modelo['preprocessing'].catb\n",
    "numeric = modelo['preprocessing'].scaler"
   ]
  },
  {
   "cell_type": "code",
   "execution_count": 7,
   "metadata": {},
   "outputs": [],
   "source": [
    "features_names = modelo['preprocessing'].feature_names"
   ]
  },
  {
   "cell_type": "code",
   "execution_count": 8,
   "metadata": {},
   "outputs": [],
   "source": [
    "entrada_dados = {\n",
    "    'Id' : 132,\n",
    "    'area' : 44,\n",
    "    'quartos' : 2,\n",
    "    'garagem' : 1,\n",
    "    'banheiros' : 1,\n",
    "    'bairro' : 'Aparecida',\n",
    "    'preco' : 180000\n",
    "}"
   ]
  },
  {
   "cell_type": "code",
   "execution_count": 9,
   "metadata": {},
   "outputs": [],
   "source": [
    "df_teste = pd.DataFrame(index=[0], columns=features_names)\n",
    "df_teste = df_teste.fillna(value=0)\n",
    "\n",
    "for i in entrada_dados.items():\n",
    "  df_teste[i[0]] = i[1]"
   ]
  },
  {
   "cell_type": "code",
   "execution_count": 10,
   "metadata": {},
   "outputs": [
    {
     "output_type": "execute_result",
     "data": {
      "text/plain": "   area  quartos  garagem  banheiros   preco     bairro   Id\n0    44        2        1          1  180000  Aparecida  132",
      "text/html": "<div>\n<style scoped>\n    .dataframe tbody tr th:only-of-type {\n        vertical-align: middle;\n    }\n\n    .dataframe tbody tr th {\n        vertical-align: top;\n    }\n\n    .dataframe thead th {\n        text-align: right;\n    }\n</style>\n<table border=\"1\" class=\"dataframe\">\n  <thead>\n    <tr style=\"text-align: right;\">\n      <th></th>\n      <th>area</th>\n      <th>quartos</th>\n      <th>garagem</th>\n      <th>banheiros</th>\n      <th>preco</th>\n      <th>bairro</th>\n      <th>Id</th>\n    </tr>\n  </thead>\n  <tbody>\n    <tr>\n      <th>0</th>\n      <td>44</td>\n      <td>2</td>\n      <td>1</td>\n      <td>1</td>\n      <td>180000</td>\n      <td>Aparecida</td>\n      <td>132</td>\n    </tr>\n  </tbody>\n</table>\n</div>"
     },
     "metadata": {},
     "execution_count": 10
    }
   ],
   "source": [
    "df_teste"
   ]
  },
  {
   "cell_type": "code",
   "execution_count": 12,
   "metadata": {},
   "outputs": [],
   "source": [
    "df_teste.drop('Id', axis = 1, inplace = True)"
   ]
  },
  {
   "cell_type": "code",
   "execution_count": 13,
   "metadata": {},
   "outputs": [],
   "source": [
    "numeric_features = df_teste.drop('bairro', axis = 1).columns.tolist()\n",
    "df_teste['bairro'] = encoder.transform(df_teste['bairro'])\n",
    "df_teste[numeric_features] = numeric.transform(df_teste[numeric_features])"
   ]
  },
  {
   "cell_type": "code",
   "execution_count": 14,
   "metadata": {},
   "outputs": [
    {
     "output_type": "execute_result",
     "data": {
      "text/plain": "       area   quartos  garagem  banheiros    preco    bairro\n0 -0.669648 -0.837344 -0.76879  -1.047397 -0.63686  0.170833",
      "text/html": "<div>\n<style scoped>\n    .dataframe tbody tr th:only-of-type {\n        vertical-align: middle;\n    }\n\n    .dataframe tbody tr th {\n        vertical-align: top;\n    }\n\n    .dataframe thead th {\n        text-align: right;\n    }\n</style>\n<table border=\"1\" class=\"dataframe\">\n  <thead>\n    <tr style=\"text-align: right;\">\n      <th></th>\n      <th>area</th>\n      <th>quartos</th>\n      <th>garagem</th>\n      <th>banheiros</th>\n      <th>preco</th>\n      <th>bairro</th>\n    </tr>\n  </thead>\n  <tbody>\n    <tr>\n      <th>0</th>\n      <td>-0.669648</td>\n      <td>-0.837344</td>\n      <td>-0.76879</td>\n      <td>-1.047397</td>\n      <td>-0.63686</td>\n      <td>0.170833</td>\n    </tr>\n  </tbody>\n</table>\n</div>"
     },
     "metadata": {},
     "execution_count": 14
    }
   ],
   "source": [
    "df_teste"
   ]
  },
  {
   "cell_type": "code",
   "execution_count": 18,
   "metadata": {},
   "outputs": [
    {
     "output_type": "execute_result",
     "data": {
      "text/plain": "array([0])"
     },
     "metadata": {},
     "execution_count": 18
    }
   ],
   "source": [
    "modelo['model'].predict(df_teste)"
   ]
  },
  {
   "cell_type": "markdown",
   "metadata": {},
   "source": [
    "## Verificando imbalanced"
   ]
  },
  {
   "cell_type": "code",
   "execution_count": 15,
   "metadata": {},
   "outputs": [],
   "source": [
    "import functools\n",
    "from math import sqrt\n",
    "import matplotlib.pyplot as plt\n",
    "import numpy as np\n",
    "import statsmodels.api as sm\n",
    "import scipy.stats as sct\n",
    "import seaborn as sns\n",
    "from imblearn.over_sampling import SMOTE\n",
    "from sklearn.decomposition import PCA"
   ]
  },
  {
   "cell_type": "code",
   "execution_count": 16,
   "metadata": {},
   "outputs": [],
   "source": [
    "df = pd.read_csv('/home/matheus/Documentos/house-recommendation/data/train.csv', delimiter = ';')"
   ]
  },
  {
   "cell_type": "code",
   "execution_count": 17,
   "metadata": {},
   "outputs": [
    {
     "output_type": "execute_result",
     "data": {
      "text/plain": "     Id  area  quartos  garagem  banheiros            bairro   preco  y\n0  1718   600        4        3          4  Morada Da Colina  700000  0\n1   528    61        2        1          1         Vida Nova  170000  0\n2  1649    58        2        2          2          Pampulha  226000  0\n3  1719    50        2        1          2        Novo Mundo  185000  1\n4    42    78        2        2          3         Tabajaras  330000  0",
      "text/html": "<div>\n<style scoped>\n    .dataframe tbody tr th:only-of-type {\n        vertical-align: middle;\n    }\n\n    .dataframe tbody tr th {\n        vertical-align: top;\n    }\n\n    .dataframe thead th {\n        text-align: right;\n    }\n</style>\n<table border=\"1\" class=\"dataframe\">\n  <thead>\n    <tr style=\"text-align: right;\">\n      <th></th>\n      <th>Id</th>\n      <th>area</th>\n      <th>quartos</th>\n      <th>garagem</th>\n      <th>banheiros</th>\n      <th>bairro</th>\n      <th>preco</th>\n      <th>y</th>\n    </tr>\n  </thead>\n  <tbody>\n    <tr>\n      <th>0</th>\n      <td>1718</td>\n      <td>600</td>\n      <td>4</td>\n      <td>3</td>\n      <td>4</td>\n      <td>Morada Da Colina</td>\n      <td>700000</td>\n      <td>0</td>\n    </tr>\n    <tr>\n      <th>1</th>\n      <td>528</td>\n      <td>61</td>\n      <td>2</td>\n      <td>1</td>\n      <td>1</td>\n      <td>Vida Nova</td>\n      <td>170000</td>\n      <td>0</td>\n    </tr>\n    <tr>\n      <th>2</th>\n      <td>1649</td>\n      <td>58</td>\n      <td>2</td>\n      <td>2</td>\n      <td>2</td>\n      <td>Pampulha</td>\n      <td>226000</td>\n      <td>0</td>\n    </tr>\n    <tr>\n      <th>3</th>\n      <td>1719</td>\n      <td>50</td>\n      <td>2</td>\n      <td>1</td>\n      <td>2</td>\n      <td>Novo Mundo</td>\n      <td>185000</td>\n      <td>1</td>\n    </tr>\n    <tr>\n      <th>4</th>\n      <td>42</td>\n      <td>78</td>\n      <td>2</td>\n      <td>2</td>\n      <td>3</td>\n      <td>Tabajaras</td>\n      <td>330000</td>\n      <td>0</td>\n    </tr>\n  </tbody>\n</table>\n</div>"
     },
     "metadata": {},
     "execution_count": 17
    }
   ],
   "source": [
    "df.head()"
   ]
  },
  {
   "cell_type": "code",
   "execution_count": 27,
   "metadata": {},
   "outputs": [
    {
     "output_type": "execute_result",
     "data": {
      "text/plain": "0    995\n1    205\nName: y, dtype: int64"
     },
     "metadata": {},
     "execution_count": 27
    }
   ],
   "source": [
    "df.y.value_counts()"
   ]
  },
  {
   "cell_type": "code",
   "execution_count": 18,
   "metadata": {},
   "outputs": [],
   "source": [
    "df['bairro'] = encoder.transform(df['bairro'])\n",
    "df[numeric_features] = numeric.transform(df[numeric_features])"
   ]
  },
  {
   "cell_type": "code",
   "execution_count": 19,
   "metadata": {},
   "outputs": [
    {
     "output_type": "execute_result",
     "data": {
      "text/plain": "     Id      area   quartos   garagem  banheiros    bairro     preco  y\n0  1718  2.529816  1.435987  0.877148   1.777045  0.010049  0.912903  0\n1   528 -0.571823 -0.837344 -0.768790  -1.047397  0.017083 -0.666664  0\n2  1649 -0.589086 -0.837344  0.054179  -0.105917  0.098674 -0.499766  0\n3  1719 -0.635121 -0.837344 -0.768790  -0.105917  0.634167 -0.621959  1\n4    42 -0.473997 -0.837344  0.054179   0.835564  0.017083 -0.189813  0",
      "text/html": "<div>\n<style scoped>\n    .dataframe tbody tr th:only-of-type {\n        vertical-align: middle;\n    }\n\n    .dataframe tbody tr th {\n        vertical-align: top;\n    }\n\n    .dataframe thead th {\n        text-align: right;\n    }\n</style>\n<table border=\"1\" class=\"dataframe\">\n  <thead>\n    <tr style=\"text-align: right;\">\n      <th></th>\n      <th>Id</th>\n      <th>area</th>\n      <th>quartos</th>\n      <th>garagem</th>\n      <th>banheiros</th>\n      <th>bairro</th>\n      <th>preco</th>\n      <th>y</th>\n    </tr>\n  </thead>\n  <tbody>\n    <tr>\n      <th>0</th>\n      <td>1718</td>\n      <td>2.529816</td>\n      <td>1.435987</td>\n      <td>0.877148</td>\n      <td>1.777045</td>\n      <td>0.010049</td>\n      <td>0.912903</td>\n      <td>0</td>\n    </tr>\n    <tr>\n      <th>1</th>\n      <td>528</td>\n      <td>-0.571823</td>\n      <td>-0.837344</td>\n      <td>-0.768790</td>\n      <td>-1.047397</td>\n      <td>0.017083</td>\n      <td>-0.666664</td>\n      <td>0</td>\n    </tr>\n    <tr>\n      <th>2</th>\n      <td>1649</td>\n      <td>-0.589086</td>\n      <td>-0.837344</td>\n      <td>0.054179</td>\n      <td>-0.105917</td>\n      <td>0.098674</td>\n      <td>-0.499766</td>\n      <td>0</td>\n    </tr>\n    <tr>\n      <th>3</th>\n      <td>1719</td>\n      <td>-0.635121</td>\n      <td>-0.837344</td>\n      <td>-0.768790</td>\n      <td>-0.105917</td>\n      <td>0.634167</td>\n      <td>-0.621959</td>\n      <td>1</td>\n    </tr>\n    <tr>\n      <th>4</th>\n      <td>42</td>\n      <td>-0.473997</td>\n      <td>-0.837344</td>\n      <td>0.054179</td>\n      <td>0.835564</td>\n      <td>0.017083</td>\n      <td>-0.189813</td>\n      <td>0</td>\n    </tr>\n  </tbody>\n</table>\n</div>"
     },
     "metadata": {},
     "execution_count": 19
    }
   ],
   "source": [
    "df.head()"
   ]
  },
  {
   "cell_type": "code",
   "execution_count": 114,
   "metadata": {},
   "outputs": [],
   "source": [
    "df = pd.read_csv('/home/matheus/Documentos/house-recommendation/data/train.csv', delimiter = ';')\n",
    "df['bairro'] = encoder.transform(df['bairro'])\n",
    "df[numeric_features] = numeric.transform(df[numeric_features])"
   ]
  },
  {
   "cell_type": "code",
   "execution_count": 115,
   "metadata": {},
   "outputs": [
    {
     "output_type": "execute_result",
     "data": {
      "text/plain": "0    995\n1    205\nName: y, dtype: int64"
     },
     "metadata": {},
     "execution_count": 115
    }
   ],
   "source": [
    "df.y.value_counts()"
   ]
  },
  {
   "cell_type": "code",
   "execution_count": 117,
   "metadata": {},
   "outputs": [
    {
     "output_type": "error",
     "ename": "ValueError",
     "evalue": "The specified ratio required to remove samples from the minority class while trying to generate new samples. Please increase the ratio.",
     "traceback": [
      "\u001b[0;31m---------------------------------------------------------------------------\u001b[0m",
      "\u001b[0;31mValueError\u001b[0m                                Traceback (most recent call last)",
      "\u001b[0;32m<ipython-input-117-133cd3ebd1b0>\u001b[0m in \u001b[0;36m<module>\u001b[0;34m\u001b[0m\n\u001b[1;32m      2\u001b[0m \u001b[0mX\u001b[0m \u001b[0;34m=\u001b[0m \u001b[0mdf\u001b[0m\u001b[0;34m.\u001b[0m\u001b[0mdrop\u001b[0m\u001b[0;34m(\u001b[0m\u001b[0;34m'y'\u001b[0m\u001b[0;34m,\u001b[0m \u001b[0maxis\u001b[0m\u001b[0;34m=\u001b[0m\u001b[0;36m1\u001b[0m\u001b[0;34m)\u001b[0m\u001b[0;34m\u001b[0m\u001b[0;34m\u001b[0m\u001b[0m\n\u001b[1;32m      3\u001b[0m \u001b[0my\u001b[0m \u001b[0;34m=\u001b[0m \u001b[0mdf\u001b[0m\u001b[0;34m[\u001b[0m\u001b[0;34m'y'\u001b[0m\u001b[0;34m]\u001b[0m\u001b[0;34m.\u001b[0m\u001b[0mvalues\u001b[0m\u001b[0;34m\u001b[0m\u001b[0;34m\u001b[0m\u001b[0m\n\u001b[0;32m----> 4\u001b[0;31m \u001b[0mX_smote\u001b[0m\u001b[0;34m,\u001b[0m \u001b[0my_smote\u001b[0m \u001b[0;34m=\u001b[0m \u001b[0msmote\u001b[0m\u001b[0;34m.\u001b[0m\u001b[0mfit_resample\u001b[0m\u001b[0;34m(\u001b[0m\u001b[0mX\u001b[0m\u001b[0;34m,\u001b[0m \u001b[0my\u001b[0m\u001b[0;34m)\u001b[0m\u001b[0;34m\u001b[0m\u001b[0;34m\u001b[0m\u001b[0m\n\u001b[0m",
      "\u001b[0;32m~/miniconda3/envs/house-recommendation/lib/python3.8/site-packages/imblearn/base.py\u001b[0m in \u001b[0;36mfit_resample\u001b[0;34m(self, X, y)\u001b[0m\n\u001b[1;32m     77\u001b[0m         \u001b[0mX\u001b[0m\u001b[0;34m,\u001b[0m \u001b[0my\u001b[0m\u001b[0;34m,\u001b[0m \u001b[0mbinarize_y\u001b[0m \u001b[0;34m=\u001b[0m \u001b[0mself\u001b[0m\u001b[0;34m.\u001b[0m\u001b[0m_check_X_y\u001b[0m\u001b[0;34m(\u001b[0m\u001b[0mX\u001b[0m\u001b[0;34m,\u001b[0m \u001b[0my\u001b[0m\u001b[0;34m)\u001b[0m\u001b[0;34m\u001b[0m\u001b[0;34m\u001b[0m\u001b[0m\n\u001b[1;32m     78\u001b[0m \u001b[0;34m\u001b[0m\u001b[0m\n\u001b[0;32m---> 79\u001b[0;31m         self.sampling_strategy_ = check_sampling_strategy(\n\u001b[0m\u001b[1;32m     80\u001b[0m             \u001b[0mself\u001b[0m\u001b[0;34m.\u001b[0m\u001b[0msampling_strategy\u001b[0m\u001b[0;34m,\u001b[0m \u001b[0my\u001b[0m\u001b[0;34m,\u001b[0m \u001b[0mself\u001b[0m\u001b[0;34m.\u001b[0m\u001b[0m_sampling_type\u001b[0m\u001b[0;34m\u001b[0m\u001b[0;34m\u001b[0m\u001b[0m\n\u001b[1;32m     81\u001b[0m         )\n",
      "\u001b[0;32m~/miniconda3/envs/house-recommendation/lib/python3.8/site-packages/imblearn/utils/_validation.py\u001b[0m in \u001b[0;36mcheck_sampling_strategy\u001b[0;34m(sampling_strategy, y, sampling_type, **kwargs)\u001b[0m\n\u001b[1;32m    576\u001b[0m         return OrderedDict(\n\u001b[1;32m    577\u001b[0m             sorted(\n\u001b[0;32m--> 578\u001b[0;31m                 _sampling_strategy_float(\n\u001b[0m\u001b[1;32m    579\u001b[0m                     \u001b[0msampling_strategy\u001b[0m\u001b[0;34m,\u001b[0m \u001b[0my\u001b[0m\u001b[0;34m,\u001b[0m \u001b[0msampling_type\u001b[0m\u001b[0;34m\u001b[0m\u001b[0;34m\u001b[0m\u001b[0m\n\u001b[1;32m    580\u001b[0m                 ).items()\n",
      "\u001b[0;32m~/miniconda3/envs/house-recommendation/lib/python3.8/site-packages/imblearn/utils/_validation.py\u001b[0m in \u001b[0;36m_sampling_strategy_float\u001b[0;34m(sampling_strategy, y, sampling_type)\u001b[0m\n\u001b[1;32m    398\u001b[0m         }\n\u001b[1;32m    399\u001b[0m         \u001b[0;32mif\u001b[0m \u001b[0many\u001b[0m\u001b[0;34m(\u001b[0m\u001b[0;34m[\u001b[0m\u001b[0mn_samples\u001b[0m \u001b[0;34m<=\u001b[0m \u001b[0;36m0\u001b[0m \u001b[0;32mfor\u001b[0m \u001b[0mn_samples\u001b[0m \u001b[0;32min\u001b[0m \u001b[0msampling_strategy_\u001b[0m\u001b[0;34m.\u001b[0m\u001b[0mvalues\u001b[0m\u001b[0;34m(\u001b[0m\u001b[0;34m)\u001b[0m\u001b[0;34m]\u001b[0m\u001b[0;34m)\u001b[0m\u001b[0;34m:\u001b[0m\u001b[0;34m\u001b[0m\u001b[0;34m\u001b[0m\u001b[0m\n\u001b[0;32m--> 400\u001b[0;31m             raise ValueError(\n\u001b[0m\u001b[1;32m    401\u001b[0m                 \u001b[0;34m\"The specified ratio required to remove samples \"\u001b[0m\u001b[0;34m\u001b[0m\u001b[0;34m\u001b[0m\u001b[0m\n\u001b[1;32m    402\u001b[0m                 \u001b[0;34m\"from the minority class while trying to \"\u001b[0m\u001b[0;34m\u001b[0m\u001b[0;34m\u001b[0m\u001b[0m\n",
      "\u001b[0;31mValueError\u001b[0m: The specified ratio required to remove samples from the minority class while trying to generate new samples. Please increase the ratio."
     ]
    }
   ],
   "source": [
    "smote = SMOTE(sampling_strategy=0.1)\n",
    "X = df.drop('y', axis=1)\n",
    "y = df['y'].values\n",
    "X_smote, y_smote = smote.fit_resample(X, y)"
   ]
  },
  {
   "cell_type": "code",
   "execution_count": 81,
   "metadata": {},
   "outputs": [
    {
     "output_type": "execute_result",
     "data": {
      "text/plain": "        Id      area   quartos   garagem  banheiros    bairro     preco  y\n0     1718  2.529816  1.435987  0.877148   1.777045  0.010049  0.912903  0\n1      528 -0.571823 -0.837344 -0.768790  -1.047397  0.017083 -0.666664  0\n2     1649 -0.589086 -0.837344  0.054179  -0.105917  0.098674 -0.499766  0\n3     1719 -0.635121 -0.837344 -0.768790  -0.105917  0.634167 -0.621959  1\n4       42 -0.473997 -0.837344  0.054179   0.835564  0.017083 -0.189813  0\n...    ...       ...       ...       ...        ...       ...       ... ..\n1985   756 -0.602025 -0.837344 -0.768790  -1.047397  0.373792 -0.580996  1\n1986   377 -0.581099 -0.028327 -0.768790  -0.377303  0.316893 -0.524223  1\n1987  1225 -0.569242 -0.037096 -0.768790  -0.105917  0.280817 -0.719996  1\n1988   759 -0.617777 -0.837344 -0.768790  -0.119203  0.460779 -0.577969  1\n1989  1346 -0.600384 -0.837344 -0.768790  -0.105917  0.373792 -0.636860  1\n\n[1990 rows x 8 columns]",
      "text/html": "<div>\n<style scoped>\n    .dataframe tbody tr th:only-of-type {\n        vertical-align: middle;\n    }\n\n    .dataframe tbody tr th {\n        vertical-align: top;\n    }\n\n    .dataframe thead th {\n        text-align: right;\n    }\n</style>\n<table border=\"1\" class=\"dataframe\">\n  <thead>\n    <tr style=\"text-align: right;\">\n      <th></th>\n      <th>Id</th>\n      <th>area</th>\n      <th>quartos</th>\n      <th>garagem</th>\n      <th>banheiros</th>\n      <th>bairro</th>\n      <th>preco</th>\n      <th>y</th>\n    </tr>\n  </thead>\n  <tbody>\n    <tr>\n      <th>0</th>\n      <td>1718</td>\n      <td>2.529816</td>\n      <td>1.435987</td>\n      <td>0.877148</td>\n      <td>1.777045</td>\n      <td>0.010049</td>\n      <td>0.912903</td>\n      <td>0</td>\n    </tr>\n    <tr>\n      <th>1</th>\n      <td>528</td>\n      <td>-0.571823</td>\n      <td>-0.837344</td>\n      <td>-0.768790</td>\n      <td>-1.047397</td>\n      <td>0.017083</td>\n      <td>-0.666664</td>\n      <td>0</td>\n    </tr>\n    <tr>\n      <th>2</th>\n      <td>1649</td>\n      <td>-0.589086</td>\n      <td>-0.837344</td>\n      <td>0.054179</td>\n      <td>-0.105917</td>\n      <td>0.098674</td>\n      <td>-0.499766</td>\n      <td>0</td>\n    </tr>\n    <tr>\n      <th>3</th>\n      <td>1719</td>\n      <td>-0.635121</td>\n      <td>-0.837344</td>\n      <td>-0.768790</td>\n      <td>-0.105917</td>\n      <td>0.634167</td>\n      <td>-0.621959</td>\n      <td>1</td>\n    </tr>\n    <tr>\n      <th>4</th>\n      <td>42</td>\n      <td>-0.473997</td>\n      <td>-0.837344</td>\n      <td>0.054179</td>\n      <td>0.835564</td>\n      <td>0.017083</td>\n      <td>-0.189813</td>\n      <td>0</td>\n    </tr>\n    <tr>\n      <th>...</th>\n      <td>...</td>\n      <td>...</td>\n      <td>...</td>\n      <td>...</td>\n      <td>...</td>\n      <td>...</td>\n      <td>...</td>\n      <td>...</td>\n    </tr>\n    <tr>\n      <th>1985</th>\n      <td>756</td>\n      <td>-0.602025</td>\n      <td>-0.837344</td>\n      <td>-0.768790</td>\n      <td>-1.047397</td>\n      <td>0.373792</td>\n      <td>-0.580996</td>\n      <td>1</td>\n    </tr>\n    <tr>\n      <th>1986</th>\n      <td>377</td>\n      <td>-0.581099</td>\n      <td>-0.028327</td>\n      <td>-0.768790</td>\n      <td>-0.377303</td>\n      <td>0.316893</td>\n      <td>-0.524223</td>\n      <td>1</td>\n    </tr>\n    <tr>\n      <th>1987</th>\n      <td>1225</td>\n      <td>-0.569242</td>\n      <td>-0.037096</td>\n      <td>-0.768790</td>\n      <td>-0.105917</td>\n      <td>0.280817</td>\n      <td>-0.719996</td>\n      <td>1</td>\n    </tr>\n    <tr>\n      <th>1988</th>\n      <td>759</td>\n      <td>-0.617777</td>\n      <td>-0.837344</td>\n      <td>-0.768790</td>\n      <td>-0.119203</td>\n      <td>0.460779</td>\n      <td>-0.577969</td>\n      <td>1</td>\n    </tr>\n    <tr>\n      <th>1989</th>\n      <td>1346</td>\n      <td>-0.600384</td>\n      <td>-0.837344</td>\n      <td>-0.768790</td>\n      <td>-0.105917</td>\n      <td>0.373792</td>\n      <td>-0.636860</td>\n      <td>1</td>\n    </tr>\n  </tbody>\n</table>\n<p>1990 rows × 8 columns</p>\n</div>"
     },
     "metadata": {},
     "execution_count": 81
    }
   ],
   "source": [
    "df_smote = X_smote\n",
    "df_smote['y'] = y_smote\n",
    "df_smote"
   ]
  },
  {
   "cell_type": "code",
   "execution_count": 82,
   "metadata": {},
   "outputs": [
    {
     "output_type": "execute_result",
     "data": {
      "text/plain": "1    995\n0    995\nName: y, dtype: int64"
     },
     "metadata": {},
     "execution_count": 82
    }
   ],
   "source": [
    "df_smote.y.value_counts()"
   ]
  },
  {
   "cell_type": "code",
   "execution_count": 83,
   "metadata": {},
   "outputs": [],
   "source": [
    "df_smote.drop('Id', axis = 1, inplace = True)"
   ]
  },
  {
   "cell_type": "code",
   "execution_count": 87,
   "metadata": {},
   "outputs": [],
   "source": [
    "from sklearn.model_selection import train_test_split\n",
    "train, test = train_test_split(df_smote, test_size=0.33, random_state=42, shuffle=True)"
   ]
  },
  {
   "cell_type": "code",
   "execution_count": 88,
   "metadata": {},
   "outputs": [],
   "source": [
    "X = train.drop('y', axis = 1)\n",
    "y = train['y'].values\n",
    "X_train, X_val, y_train, y_val = train_test_split(X, y, test_size=0.33, random_state=42, shuffle=True)"
   ]
  },
  {
   "cell_type": "code",
   "execution_count": 89,
   "metadata": {},
   "outputs": [
    {
     "output_type": "execute_result",
     "data": {
      "text/plain": "LGBMClassifier(boosting_type='gbdt', class_weight=None, colsample_bytree=1.0,\n               importance_type='split', learning_rate=0.1, max_depth=-1,\n               min_child_samples=20, min_child_weight=0.001, min_split_gain=0.0,\n               n_estimators=100, n_jobs=-1, num_leaves=31, objective=None,\n               random_state=None, reg_alpha=0.0, reg_lambda=0.0, silent=True,\n               subsample=1.0, subsample_for_bin=200000, subsample_freq=0)"
     },
     "metadata": {},
     "execution_count": 89
    }
   ],
   "source": [
    "from lightgbm import LGBMClassifier\n",
    "model = LGBMClassifier()\n",
    "model.fit(X_train, y_train)"
   ]
  },
  {
   "cell_type": "code",
   "execution_count": 91,
   "metadata": {},
   "outputs": [],
   "source": [
    "y_pred = model.predict(X_val)"
   ]
  },
  {
   "cell_type": "code",
   "execution_count": 93,
   "metadata": {},
   "outputs": [
    {
     "output_type": "execute_result",
     "data": {
      "text/plain": "{'roc_auc_score': 0.9368782445037332,\n 'average_precision_score': 0.8981548001846261}"
     },
     "metadata": {},
     "execution_count": 93
    }
   ],
   "source": [
    "Metrics().calculate_classification(y_val, y_pred)"
   ]
  },
  {
   "cell_type": "code",
   "execution_count": 95,
   "metadata": {},
   "outputs": [],
   "source": [
    "y_pred_test = model.predict(test.drop('y', axis = 1))\n"
   ]
  },
  {
   "cell_type": "code",
   "execution_count": 96,
   "metadata": {},
   "outputs": [],
   "source": [
    "y_test = test['y'].values"
   ]
  },
  {
   "cell_type": "code",
   "execution_count": 97,
   "metadata": {},
   "outputs": [
    {
     "output_type": "execute_result",
     "data": {
      "text/plain": "{'roc_auc_score': 0.956452573214751,\n 'average_precision_score': 0.9375919409121212}"
     },
     "metadata": {},
     "execution_count": 97
    }
   ],
   "source": [
    "Metrics().calculate_classification(y_test, y_pred_test)"
   ]
  },
  {
   "cell_type": "code",
   "execution_count": 98,
   "metadata": {},
   "outputs": [],
   "source": [
    "entrada_dados = {\n",
    "    'Id' : 132,\n",
    "    'area' : 44,\n",
    "    'quartos' : 2,\n",
    "    'garagem' : 1,\n",
    "    'banheiros' : 1,\n",
    "    'bairro' : 'Aparecida',\n",
    "    'preco' : 180000\n",
    "}"
   ]
  },
  {
   "cell_type": "code",
   "execution_count": 99,
   "metadata": {},
   "outputs": [],
   "source": [
    "df_teste = pd.DataFrame(index=[0], columns=features_names)\n",
    "df_teste = df_teste.fillna(value=0)\n",
    "\n",
    "for i in entrada_dados.items():\n",
    "  df_teste[i[0]] = i[1]"
   ]
  },
  {
   "cell_type": "code",
   "execution_count": 100,
   "metadata": {},
   "outputs": [
    {
     "output_type": "execute_result",
     "data": {
      "text/plain": "   area  quartos  garagem  banheiros   preco     bairro   Id\n0    44        2        1          1  180000  Aparecida  132",
      "text/html": "<div>\n<style scoped>\n    .dataframe tbody tr th:only-of-type {\n        vertical-align: middle;\n    }\n\n    .dataframe tbody tr th {\n        vertical-align: top;\n    }\n\n    .dataframe thead th {\n        text-align: right;\n    }\n</style>\n<table border=\"1\" class=\"dataframe\">\n  <thead>\n    <tr style=\"text-align: right;\">\n      <th></th>\n      <th>area</th>\n      <th>quartos</th>\n      <th>garagem</th>\n      <th>banheiros</th>\n      <th>preco</th>\n      <th>bairro</th>\n      <th>Id</th>\n    </tr>\n  </thead>\n  <tbody>\n    <tr>\n      <th>0</th>\n      <td>44</td>\n      <td>2</td>\n      <td>1</td>\n      <td>1</td>\n      <td>180000</td>\n      <td>Aparecida</td>\n      <td>132</td>\n    </tr>\n  </tbody>\n</table>\n</div>"
     },
     "metadata": {},
     "execution_count": 100
    }
   ],
   "source": [
    "df_teste"
   ]
  },
  {
   "cell_type": "code",
   "execution_count": 101,
   "metadata": {},
   "outputs": [],
   "source": [
    "df_teste.drop('Id', axis = 1, inplace = True)"
   ]
  },
  {
   "cell_type": "code",
   "execution_count": 102,
   "metadata": {},
   "outputs": [],
   "source": [
    "numeric_features = df_teste.drop('bairro', axis = 1).columns.tolist()\n",
    "df_teste['bairro'] = encoder.transform(df_teste['bairro'])\n",
    "df_teste[numeric_features] = numeric.transform(df_teste[numeric_features])"
   ]
  },
  {
   "cell_type": "code",
   "execution_count": 103,
   "metadata": {},
   "outputs": [
    {
     "output_type": "execute_result",
     "data": {
      "text/plain": "       area   quartos  garagem  banheiros    preco    bairro\n0 -0.669648 -0.837344 -0.76879  -1.047397 -0.63686  0.077238",
      "text/html": "<div>\n<style scoped>\n    .dataframe tbody tr th:only-of-type {\n        vertical-align: middle;\n    }\n\n    .dataframe tbody tr th {\n        vertical-align: top;\n    }\n\n    .dataframe thead th {\n        text-align: right;\n    }\n</style>\n<table border=\"1\" class=\"dataframe\">\n  <thead>\n    <tr style=\"text-align: right;\">\n      <th></th>\n      <th>area</th>\n      <th>quartos</th>\n      <th>garagem</th>\n      <th>banheiros</th>\n      <th>preco</th>\n      <th>bairro</th>\n    </tr>\n  </thead>\n  <tbody>\n    <tr>\n      <th>0</th>\n      <td>-0.669648</td>\n      <td>-0.837344</td>\n      <td>-0.76879</td>\n      <td>-1.047397</td>\n      <td>-0.63686</td>\n      <td>0.077238</td>\n    </tr>\n  </tbody>\n</table>\n</div>"
     },
     "metadata": {},
     "execution_count": 103
    }
   ],
   "source": [
    "df_teste"
   ]
  },
  {
   "cell_type": "code",
   "execution_count": 104,
   "metadata": {},
   "outputs": [
    {
     "output_type": "execute_result",
     "data": {
      "text/plain": "array([0])"
     },
     "metadata": {},
     "execution_count": 104
    }
   ],
   "source": [
    "model.predict(df_teste)"
   ]
  },
  {
   "cell_type": "code",
   "execution_count": null,
   "metadata": {},
   "outputs": [],
   "source": []
  }
 ],
 "metadata": {
  "language_info": {
   "codemirror_mode": {
    "name": "ipython",
    "version": 3
   },
   "file_extension": ".py",
   "mimetype": "text/x-python",
   "name": "python",
   "nbconvert_exporter": "python",
   "pygments_lexer": "ipython3",
   "version": "3.8.3-final"
  },
  "orig_nbformat": 2,
  "kernelspec": {
   "name": "python38364bit7962f163f7d94f2eabab29bf9ea94704",
   "display_name": "Python 3.8.3 64-bit"
  }
 },
 "nbformat": 4,
 "nbformat_minor": 2
}